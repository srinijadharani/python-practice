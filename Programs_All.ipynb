{
 "cells": [
  {
   "cell_type": "markdown",
   "metadata": {},
   "source": [
    "**1. Print \"Hello World!\"**"
   ]
  },
  {
   "cell_type": "code",
   "execution_count": 1,
   "metadata": {},
   "outputs": [
    {
     "name": "stdout",
     "output_type": "stream",
     "text": [
      "Hello World!\n"
     ]
    }
   ],
   "source": [
    "print(\"Hello World!\")"
   ]
  },
  {
   "cell_type": "markdown",
   "metadata": {},
   "source": [
    "**2. Take input from the user and perform all arithmetic operations.**"
   ]
  },
  {
   "cell_type": "code",
   "execution_count": 2,
   "metadata": {},
   "outputs": [
    {
     "name": "stdout",
     "output_type": "stream",
     "text": [
      "Enter number 1: 12\n",
      "Enter number 2: 10\n",
      "Sum= 22\n",
      "Difference= 2\n",
      "Product= 120\n",
      "Quotient= 1.2\n",
      "Remainder= 2\n",
      "Floor Division= 1\n"
     ]
    }
   ],
   "source": [
    "a= int(input(\"Enter number 1: \"))\n",
    "b= int(input(\"Enter number 2: \"))\n",
    "print(\"Sum=\",a+b)\n",
    "print(\"Difference=\",(a-b))\n",
    "print(\"Product=\",a*b)\n",
    "print(\"Quotient=\",a/b)\n",
    "print(\"Remainder=\",a%b)\n",
    "print(\"Floor Division=\",a//b)"
   ]
  },
  {
   "cell_type": "markdown",
   "metadata": {},
   "source": [
    "Note that unlike other programming languages such as Java or C, Python performs true division, i.e, the quotient will return a floating point value if necessary. In Java and C, there is no true division; the output will always be an integer."
   ]
  },
  {
   "cell_type": "markdown",
   "metadata": {},
   "source": [
    "**3. Find the square root.**"
   ]
  },
  {
   "cell_type": "code",
   "execution_count": 3,
   "metadata": {},
   "outputs": [
    {
     "name": "stdout",
     "output_type": "stream",
     "text": [
      "Enter a number: 64\n",
      "Square root of 64 is 8.0\n"
     ]
    }
   ],
   "source": [
    "num= int(input(\"Enter a number: \"))\n",
    "result= num**0.5\n",
    "print(\"Square root of\",num ,\"is\",result)"
   ]
  },
  {
   "cell_type": "markdown",
   "metadata": {},
   "source": [
    "**4. Find the area of a triangle using both the methods, i.e, using Heron's formula and base, height**"
   ]
  },
  {
   "cell_type": "markdown",
   "metadata": {},
   "source": [
    "Using Base and Height"
   ]
  },
  {
   "cell_type": "code",
   "execution_count": 4,
   "metadata": {},
   "outputs": [
    {
     "name": "stdout",
     "output_type": "stream",
     "text": [
      "Enter the base: 12\n",
      "Enter the height: 6\n",
      "36.0 is the area of the triangle having base 12.0 units and height 6.0 units\n"
     ]
    }
   ],
   "source": [
    "base= float(input(\"Enter the base: \"))\n",
    "height= float(input(\"Enter the height: \"))\n",
    "area= (0.5)*base*height\n",
    "print(area, \"is the area of the triangle having base\",base, \"units and height\",height, \"units\")"
   ]
  },
  {
   "cell_type": "markdown",
   "metadata": {},
   "source": [
    "Using Heron's Formula (you can use float too, instead of int as the input)"
   ]
  },
  {
   "cell_type": "code",
   "execution_count": 5,
   "metadata": {},
   "outputs": [
    {
     "name": "stdout",
     "output_type": "stream",
     "text": [
      "Enter the length side 1: 150\n",
      "Enter the length side 2: 120\n",
      "Enter the length side 3: 200\n",
      "Semi Perimeter= 235.0\n",
      "Area of the triangle using Heron's Formula is: 8966.569856974293\n"
     ]
    }
   ],
   "source": [
    "a= int(input(\"Enter the length side 1: \"))\n",
    "b= int(input(\"Enter the length side 2: \"))\n",
    "c= int(input(\"Enter the length side 3: \"))\n",
    "s= (a+b+c)*0.5\n",
    "print(\"Semi Perimeter=\",s)\n",
    "area= (s*(s-a)*(s-b)*(s-c))**(0.5)\n",
    "print(\"Area of the triangle using Heron's Formula is:\",area)"
   ]
  },
  {
   "cell_type": "code",
   "execution_count": 6,
   "metadata": {},
   "outputs": [
    {
     "name": "stdout",
     "output_type": "stream",
     "text": [
      "8966.569856974293\n"
     ]
    }
   ],
   "source": [
    "print(area)"
   ]
  },
  {
   "cell_type": "markdown",
   "metadata": {},
   "source": [
    "If you don't want so many decimal points in your result, use the round() function. The round() function takes in two inputs; the value, and the number of decimal/floating point values you need after the point(.)"
   ]
  },
  {
   "cell_type": "code",
   "execution_count": 7,
   "metadata": {},
   "outputs": [
    {
     "name": "stdout",
     "output_type": "stream",
     "text": [
      "8966.57\n"
     ]
    }
   ],
   "source": [
    "print(round(area,3))"
   ]
  },
  {
   "cell_type": "markdown",
   "metadata": {},
   "source": [
    "**5. Check if the given sides as input make a triangle or not.**"
   ]
  },
  {
   "cell_type": "code",
   "execution_count": 9,
   "metadata": {},
   "outputs": [
    {
     "name": "stdout",
     "output_type": "stream",
     "text": [
      "Enter the length side 1: 150\n",
      "Enter the length side 2: 120\n",
      "Enter the length side 3: 200\n",
      "The given three sides, 150 120 200 form a triangle.\n"
     ]
    }
   ],
   "source": [
    "a= int(input(\"Enter the length side 1: \"))\n",
    "b= int(input(\"Enter the length side 2: \"))\n",
    "c= int(input(\"Enter the length side 3: \"))\n",
    "if a+b>=c:\n",
    "    print(\"The given three sides,\",a,b,c,\"form a triangle.\")\n",
    "else:\n",
    "    print(\"No triangle can be formed with the given sides.\")"
   ]
  },
  {
   "cell_type": "markdown",
   "metadata": {},
   "source": [
    "**6. Swapping two variables using a temporary variable, arithmetic operations and bitwise operators.**"
   ]
  },
  {
   "cell_type": "markdown",
   "metadata": {},
   "source": [
    "Using a temporary variable"
   ]
  },
  {
   "cell_type": "code",
   "execution_count": 11,
   "metadata": {},
   "outputs": [
    {
     "name": "stdout",
     "output_type": "stream",
     "text": [
      "Enter the value of a: 4\n",
      "Enter the value of b: 5\n",
      "The numbers before swapping are: (a,b)= 4 5\n",
      "The numbers after swapping are: (a,b)= 5 4\n"
     ]
    }
   ],
   "source": [
    "a = int(input(\"Enter the value of a: \"))\n",
    "b = int(input(\"Enter the value of b: \"))\n",
    "print(\"The numbers before swapping are: (a,b)=\",a,b)\n",
    "temp = a\n",
    "a = b\n",
    "b = temp\n",
    "print(\"The numbers after swapping are: (a,b)=\",a,b)"
   ]
  },
  {
   "cell_type": "markdown",
   "metadata": {},
   "source": [
    "Using arithmetic operations"
   ]
  },
  {
   "cell_type": "code",
   "execution_count": 12,
   "metadata": {},
   "outputs": [
    {
     "name": "stdout",
     "output_type": "stream",
     "text": [
      "Enter the value of a: 6\n",
      "Enter the value of b: 7\n",
      "The numbers before swapping are: (a,b)= 6 7\n",
      "The numbers after swapping are: (a,b)= 7 6\n"
     ]
    }
   ],
   "source": [
    "a=int(input(\"Enter the value of a: \"))\n",
    "b=int(input(\"Enter the value of b: \"))\n",
    "print(\"The numbers before swapping are: (a,b)=\",a,b)\n",
    "a=a+b\n",
    "b=a-b\n",
    "a=a-b\n",
    "print(\"The numbers after swapping are: (a,b)=\",a,b)"
   ]
  },
  {
   "cell_type": "markdown",
   "metadata": {},
   "source": [
    "Using bitwise operators"
   ]
  },
  {
   "cell_type": "code",
   "execution_count": 13,
   "metadata": {},
   "outputs": [
    {
     "name": "stdout",
     "output_type": "stream",
     "text": [
      "Enter the value of a: 3\n",
      "Enter the value of b: 2\n",
      "The numbers before swapping are: (a,b)= 3 2\n",
      "The numbers after swapping are: (a,b)= 2 3\n"
     ]
    }
   ],
   "source": [
    "a=int(input(\"Enter the value of a: \"))\n",
    "b=int(input(\"Enter the value of b: \"))\n",
    "print(\"The numbers before swapping are: (a,b)=\",a,b)\n",
    "a=a^b\n",
    "b=a^b\n",
    "a=a^b\n",
    "print(\"The numbers after swapping are: (a,b)=\",a,b)"
   ]
  },
  {
   "cell_type": "markdown",
   "metadata": {},
   "source": [
    "**7. Convert celsius to fahrenheit and vice-versa.**"
   ]
  },
  {
   "cell_type": "code",
   "execution_count": 15,
   "metadata": {},
   "outputs": [
    {
     "name": "stdout",
     "output_type": "stream",
     "text": [
      "Enter temperature in Celsius: 100\n",
      "Enter temperature in Fahrenheit: 99\n",
      "100.0 degrees Celsius in Fahrenheit is 212.0 degrees Fahrenheit\n",
      "99.0 degrees Fahrenheit in Celsius is 37.22 degrees Celsius\n"
     ]
    }
   ],
   "source": [
    "temp_c=float(input(\"Enter temperature in Celsius: \"))\n",
    "temp_f=float(input(\"Enter temperature in Fahrenheit: \"))\n",
    "fahrenheit= (temp_c*(9/5))+32\n",
    "celsius= (temp_f-32)*(5/9)\n",
    "print(temp_c,\"degrees Celsius in Fahrenheit is\",fahrenheit,\"degrees Fahrenheit\")\n",
    "print(temp_f,\"degrees Fahrenheit in Celsius is\",round(celsius,2),\"degrees Celsius\")"
   ]
  },
  {
   "cell_type": "markdown",
   "metadata": {},
   "source": [
    "**8. Check if the number given as input is positive, negative or zero.**"
   ]
  },
  {
   "cell_type": "code",
   "execution_count": 17,
   "metadata": {},
   "outputs": [
    {
     "name": "stdout",
     "output_type": "stream",
     "text": [
      "Enter a number: -8\n",
      "-8 is negative.\n"
     ]
    }
   ],
   "source": [
    "num=int(input(\"Enter a number: \"))\n",
    "if num>0:\n",
    "    print(num, \"is positive.\")\n",
    "elif num<0:\n",
    "    print(num, \"is negative.\")\n",
    "else:\n",
    "    print(num, \"is obviously zero.\")"
   ]
  },
  {
   "cell_type": "markdown",
   "metadata": {},
   "source": [
    "**9. Check if the number given as input is even or odd.**"
   ]
  },
  {
   "cell_type": "code",
   "execution_count": 18,
   "metadata": {},
   "outputs": [
    {
     "name": "stdout",
     "output_type": "stream",
     "text": [
      "Enter a number: 34\n",
      "34 is even.\n"
     ]
    }
   ],
   "source": [
    "num=int(input(\"Enter a number: \"))\n",
    "if num%2==0:\n",
    "    print(num, \"is even.\")\n",
    "else:\n",
    "    print(num, \"is odd.\")"
   ]
  },
  {
   "cell_type": "markdown",
   "metadata": {},
   "source": [
    "**10. Check if the year given as input is a leap year or not.**"
   ]
  },
  {
   "cell_type": "markdown",
   "metadata": {},
   "source": [
    "What makes a year, a leap year?\n",
    "If a year is divisible by 4, 100 and 400, then it is a leap year. If a year is divisible by 4 but not divisible by 100, then it is not a leap year. If a year is divisible by 100 and 4 but not divisible by 400, it is not a leap year. If a year is not divisible by 4, it is not a leap year."
   ]
  },
  {
   "cell_type": "code",
   "execution_count": 19,
   "metadata": {},
   "outputs": [
    {
     "name": "stdout",
     "output_type": "stream",
     "text": [
      "Enter the year to check: 2001\n",
      "2001 is not a leap year.\n"
     ]
    }
   ],
   "source": [
    "year=int(input(\"Enter the year to check: \"))\n",
    "if year%4==0:\n",
    "    if year%100==0:\n",
    "        if year%400==0:\n",
    "            print(year,\"is a leap year.\")\n",
    "        else:\n",
    "            print(year,\"is not a leap year.\")\n",
    "    else:\n",
    "        print(year,\"is a leap year.\")\n",
    "else:\n",
    "    print(year,\"is not a leap year.\")"
   ]
  }
 ],
 "metadata": {
  "kernelspec": {
   "display_name": "Python 3",
   "language": "python",
   "name": "python3"
  },
  "language_info": {
   "codemirror_mode": {
    "name": "ipython",
    "version": 3
   },
   "file_extension": ".py",
   "mimetype": "text/x-python",
   "name": "python",
   "nbconvert_exporter": "python",
   "pygments_lexer": "ipython3",
   "version": "3.7.6"
  }
 },
 "nbformat": 4,
 "nbformat_minor": 4
}

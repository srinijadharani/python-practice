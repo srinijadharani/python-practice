{
 "cells": [
  {
   "cell_type": "markdown",
   "metadata": {},
   "source": [
    "# **LISTS**"
   ]
  },
  {
   "cell_type": "markdown",
   "metadata": {},
   "source": [
    "Lists are ordered sequenes that can hold a variety of object types. These are mutable."
   ]
  },
  {
   "cell_type": "code",
   "execution_count": 1,
   "metadata": {},
   "outputs": [
    {
     "name": "stdout",
     "output_type": "stream",
     "text": [
      "[1, 2, 3, 4]\n",
      "[3.8, 6.1, 9.0, 3.5]\n",
      "['Hey', 'Hello', 'Hi', 'Hola', 'Bonjour']\n"
     ]
    }
   ],
   "source": [
    "mylist1=[1,2,3,4] #integer list\n",
    "mylist2=[3.8,6.1,9.0,3.5] #foloating point value list\n",
    "mylist3=[\"Hey\",\"Hello\",\"Hi\",\"Hola\",\"Bonjour\"] #string list\n",
    "print(mylist1)\n",
    "print(mylist2)\n",
    "print(mylist3)"
   ]
  },
  {
   "cell_type": "code",
   "execution_count": 2,
   "metadata": {},
   "outputs": [
    {
     "name": "stdout",
     "output_type": "stream",
     "text": [
      "['Hey', 100, [3.7, 2.8]]\n"
     ]
    }
   ],
   "source": [
    "mylist=[\"Hey\",100,[3.7,2.8]]\n",
    "print(mylist)"
   ]
  },
  {
   "cell_type": "code",
   "execution_count": 3,
   "metadata": {},
   "outputs": [
    {
     "data": {
      "text/plain": [
       "[3.7, 2.8]"
      ]
     },
     "execution_count": 3,
     "metadata": {},
     "output_type": "execute_result"
    }
   ],
   "source": [
    "mylist[2]"
   ]
  },
  {
   "cell_type": "markdown",
   "metadata": {},
   "source": [
    "You can change and affect the values inside a list. Hence, lists are mutable. We can even perform slicing and indexing."
   ]
  },
  {
   "cell_type": "code",
   "execution_count": 4,
   "metadata": {},
   "outputs": [
    {
     "name": "stdout",
     "output_type": "stream",
     "text": [
      "Before changing: [1, 2, 3, 'Hey', 'Vector', 5.9]\n",
      "After changing: [1, 2, 3, 'Hola', 'Vector', 5.9]\n"
     ]
    }
   ],
   "source": [
    "mylist=[1,2,3,\"Hey\",\"Vector\",5.9]\n",
    "print(\"Before changing:\",mylist)\n",
    "mylist[3]=\"Hola\"\n",
    "print(\"After changing:\",mylist)"
   ]
  },
  {
   "cell_type": "markdown",
   "metadata": {},
   "source": [
    "Lists allow duplicate items."
   ]
  },
  {
   "cell_type": "code",
   "execution_count": 5,
   "metadata": {},
   "outputs": [
    {
     "name": "stdout",
     "output_type": "stream",
     "text": [
      "[1, 1, 2, 4, 4, 7, 6, 7]\n"
     ]
    }
   ],
   "source": [
    "mylist=[1,1,2,4,4,7,6,7]\n",
    "print(mylist)"
   ]
  },
  {
   "cell_type": "code",
   "execution_count": 6,
   "metadata": {},
   "outputs": [
    {
     "data": {
      "text/plain": [
       "'Vector'"
      ]
     },
     "execution_count": 6,
     "metadata": {},
     "output_type": "execute_result"
    }
   ],
   "source": [
    "mylist=[\"Hola\",89,\"Vector\",9.4,[5,\"Bonjour\"]]\n",
    "mylist[2]"
   ]
  },
  {
   "cell_type": "code",
   "execution_count": 7,
   "metadata": {},
   "outputs": [
    {
     "data": {
      "text/plain": [
       "[5, 'Bonjour']"
      ]
     },
     "execution_count": 7,
     "metadata": {},
     "output_type": "execute_result"
    }
   ],
   "source": [
    "mylist[-1] #-1 indicates that it is the last element."
   ]
  },
  {
   "cell_type": "code",
   "execution_count": 8,
   "metadata": {},
   "outputs": [
    {
     "data": {
      "text/plain": [
       "'Bonjour'"
      ]
     },
     "execution_count": 8,
     "metadata": {},
     "output_type": "execute_result"
    }
   ],
   "source": [
    "mylist[-1][1]"
   ]
  },
  {
   "cell_type": "code",
   "execution_count": 9,
   "metadata": {},
   "outputs": [
    {
     "data": {
      "text/plain": [
       "[89, 'Vector', 9.4]"
      ]
     },
     "execution_count": 9,
     "metadata": {},
     "output_type": "execute_result"
    }
   ],
   "source": [
    "mylist[1:4]"
   ]
  },
  {
   "cell_type": "markdown",
   "metadata": {},
   "source": [
    "Note that in the above line of code, it prints all the items in the list from the first value(as specified) and the last element will not be included, 4 will not be included."
   ]
  },
  {
   "cell_type": "code",
   "execution_count": 10,
   "metadata": {},
   "outputs": [
    {
     "data": {
      "text/plain": [
       "['Hey', 'Hi', 'Hello', 'Hola']"
      ]
     },
     "execution_count": 10,
     "metadata": {},
     "output_type": "execute_result"
    }
   ],
   "source": [
    "mylist=[\"Hey\",\"Hi\",\"Hello\",\"Hola\",\"Bonjour\",\"ciao\"]\n",
    "mylist[:-2]"
   ]
  },
  {
   "cell_type": "code",
   "execution_count": 11,
   "metadata": {},
   "outputs": [
    {
     "data": {
      "text/plain": [
       "['Hey', 'Hi', 'Hello', 'Hola', 'Bonjour', 'ciao']"
      ]
     },
     "execution_count": 11,
     "metadata": {},
     "output_type": "execute_result"
    }
   ],
   "source": [
    "mylist"
   ]
  },
  {
   "cell_type": "code",
   "execution_count": 12,
   "metadata": {},
   "outputs": [
    {
     "name": "stdout",
     "output_type": "stream",
     "text": [
      "Hey\n",
      "Hi\n",
      "Hello\n",
      "Hola\n",
      "Bonjour\n",
      "ciao\n"
     ]
    }
   ],
   "source": [
    "for item in mylist:\n",
    "    print(item)"
   ]
  },
  {
   "cell_type": "code",
   "execution_count": 13,
   "metadata": {},
   "outputs": [],
   "source": [
    "mylist[-1]=\"Ciao\""
   ]
  },
  {
   "cell_type": "code",
   "execution_count": 14,
   "metadata": {},
   "outputs": [
    {
     "data": {
      "text/plain": [
       "['Hey', 'Hi', 'Hello', 'Hola', 'Bonjour', 'Ciao']"
      ]
     },
     "execution_count": 14,
     "metadata": {},
     "output_type": "execute_result"
    }
   ],
   "source": [
    "mylist"
   ]
  },
  {
   "cell_type": "code",
   "execution_count": 15,
   "metadata": {},
   "outputs": [
    {
     "name": "stdout",
     "output_type": "stream",
     "text": [
      "0 = Hey\n",
      "1 = Hi\n",
      "2 = Hello\n",
      "3 = Hola\n",
      "4 = Bonjour\n",
      "5 = ciao\n"
     ]
    }
   ],
   "source": [
    "mylist=[\"Hey\",\"Hi\",\"Hello\",\"Hola\",\"Bonjour\",\"ciao\"]\n",
    "index=0\n",
    "for item in mylist:\n",
    "    print(index,\"=\",item)\n",
    "    index+=1"
   ]
  },
  {
   "cell_type": "code",
   "execution_count": 16,
   "metadata": {},
   "outputs": [
    {
     "data": {
      "text/plain": [
       "False"
      ]
     },
     "execution_count": 16,
     "metadata": {},
     "output_type": "execute_result"
    }
   ],
   "source": [
    "\"Vector\" in mylist"
   ]
  },
  {
   "cell_type": "code",
   "execution_count": 17,
   "metadata": {},
   "outputs": [
    {
     "name": "stdout",
     "output_type": "stream",
     "text": [
      "[3, 4, 5, 6, 7]\n"
     ]
    }
   ],
   "source": [
    "mylist=[1,2,3,4,5]\n",
    "x=2\n",
    "res = [x + i for i in mylist]\n",
    "print(res)"
   ]
  },
  {
   "cell_type": "markdown",
   "metadata": {},
   "source": [
    "To concatenate two lists, we can use the concatenation operator (+)"
   ]
  },
  {
   "cell_type": "code",
   "execution_count": 18,
   "metadata": {},
   "outputs": [
    {
     "name": "stdout",
     "output_type": "stream",
     "text": [
      "[1, 2, 2, 5, 6, 2, 7, 4, 3, 9, 0, 0]\n"
     ]
    }
   ],
   "source": [
    "mylist1=[1,2,2,5,6]\n",
    "mylist2=[2,7,4,3,9,0,0]\n",
    "result=mylist1+mylist2\n",
    "print(result)"
   ]
  },
  {
   "cell_type": "code",
   "execution_count": 19,
   "metadata": {},
   "outputs": [
    {
     "data": {
      "text/plain": [
       "[1, 2, 2, 5, 6, 1, 2, 2, 5, 6]"
      ]
     },
     "execution_count": 19,
     "metadata": {},
     "output_type": "execute_result"
    }
   ],
   "source": [
    "mylist1*2 #repeats each element in the list twice"
   ]
  },
  {
   "cell_type": "code",
   "execution_count": 20,
   "metadata": {},
   "outputs": [
    {
     "name": "stdout",
     "output_type": "stream",
     "text": [
      "['Hey', 1000, 2000, 'Hola', 'Bonjour', 'Ciao']\n"
     ]
    }
   ],
   "source": [
    "mylist=[\"Hey\",\"Hi\",\"Hello\",\"Hola\",\"Bonjour\",\"Ciao\"]\n",
    "mylist[1:3]=[1000,2000]\n",
    "print(mylist)"
   ]
  },
  {
   "cell_type": "code",
   "execution_count": 21,
   "metadata": {},
   "outputs": [
    {
     "name": "stdout",
     "output_type": "stream",
     "text": [
      "List= ['Hi', 'Hello', 'Hey']\n",
      "Item in each list: \n",
      "Hi\n",
      "Hello\n",
      "Hey\n",
      "New list= ['Hi', 'Hello', 'Hey', 2, 3, 4]\n"
     ]
    }
   ],
   "source": [
    "mylist=[\"Hi\",\"Hello\",\"Hey\"]\n",
    "print(\"List=\",mylist)\n",
    "print(\"Item in each list: \")\n",
    "for item in mylist:\n",
    "    print(item)\n",
    "a=mylist+[2,3,4]\n",
    "print(\"New list=\",a)"
   ]
  },
  {
   "cell_type": "markdown",
   "metadata": {},
   "source": [
    "**The append() method:** \n",
    "It takes only one parameter."
   ]
  },
  {
   "cell_type": "code",
   "execution_count": 22,
   "metadata": {},
   "outputs": [
    {
     "name": "stdout",
     "output_type": "stream",
     "text": [
      "Initial list: ['Hi', 'Hello', 'Hey']\n",
      "Appended list: ['Hi', 'Hello', 'Hey', 'Bonjour', 'Ciao']\n"
     ]
    }
   ],
   "source": [
    "mylist=[\"Hi\",\"Hello\",\"Hey\"]\n",
    "print(\"Initial list:\",mylist)\n",
    "mylist.append(\"Bonjour\")\n",
    "mylist.append(\"Ciao\")\n",
    "print(\"Appended list:\",mylist)"
   ]
  },
  {
   "cell_type": "code",
   "execution_count": 23,
   "metadata": {},
   "outputs": [
    {
     "name": "stdout",
     "output_type": "stream",
     "text": [
      "['Hi', 'Hello', 'Hey', 'Bonjour', 'Ciao', 1, 2, 3]\n"
     ]
    }
   ],
   "source": [
    "list1=[1,2,3]\n",
    "mylist.extend(list1)\n",
    "print(mylist)"
   ]
  },
  {
   "cell_type": "code",
   "execution_count": 24,
   "metadata": {},
   "outputs": [
    {
     "name": "stdout",
     "output_type": "stream",
     "text": [
      "['a', 'b', 'c', 'e', 'i', 'k']\n"
     ]
    }
   ],
   "source": [
    "list1=['b','c','e','i','a','k']\n",
    "list1.sort()\n",
    "print(list1)"
   ]
  },
  {
   "cell_type": "code",
   "execution_count": 25,
   "metadata": {},
   "outputs": [
    {
     "name": "stdout",
     "output_type": "stream",
     "text": [
      "[1, 2, 3.5, 7.2, 9]\n"
     ]
    }
   ],
   "source": [
    "list1=[1,2,3.5,7.2,9]\n",
    "list1.sort()\n",
    "print(list1)"
   ]
  },
  {
   "cell_type": "code",
   "execution_count": 26,
   "metadata": {},
   "outputs": [
    {
     "data": {
      "text/plain": [
       "2"
      ]
     },
     "execution_count": 26,
     "metadata": {},
     "output_type": "execute_result"
    }
   ],
   "source": [
    "mylist=[\"Hey\",\"Hi\",\"Hello\",\"Hola\",\"Bonjour\",\"Ciao\"]\n",
    "mylist.index(\"Hello\")"
   ]
  },
  {
   "cell_type": "code",
   "execution_count": 27,
   "metadata": {},
   "outputs": [
    {
     "name": "stdout",
     "output_type": "stream",
     "text": [
      "[9, 7.2, 3.5, 2, 1]\n"
     ]
    }
   ],
   "source": [
    "list1=[1,2,3.5,7.2,9]\n",
    "list1.sort(reverse=True) #if reverse= True, then descending order will be printed.\n",
    "print(list1)            "
   ]
  },
  {
   "cell_type": "code",
   "execution_count": 28,
   "metadata": {},
   "outputs": [
    {
     "name": "stdout",
     "output_type": "stream",
     "text": [
      "[1, 2, 3.5, 7.2, 9]\n"
     ]
    }
   ],
   "source": [
    "list1=[1,2,3.5,7.2,9]\n",
    "list1.sort(reverse=False) #if reverse= False, then ascending order will be printed.\n",
    "print(list1) "
   ]
  }
 ],
 "metadata": {
  "kernelspec": {
   "display_name": "Python 3",
   "language": "python",
   "name": "python3"
  },
  "language_info": {
   "codemirror_mode": {
    "name": "ipython",
    "version": 3
   },
   "file_extension": ".py",
   "mimetype": "text/x-python",
   "name": "python",
   "nbconvert_exporter": "python",
   "pygments_lexer": "ipython3",
   "version": "3.7.6"
  }
 },
 "nbformat": 4,
 "nbformat_minor": 4
}

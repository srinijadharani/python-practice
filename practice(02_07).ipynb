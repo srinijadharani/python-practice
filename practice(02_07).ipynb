{
  "nbformat": 4,
  "nbformat_minor": 0,
  "metadata": {
    "colab": {
      "name": "practice(02_07).ipynb",
      "provenance": [],
      "authorship_tag": "ABX9TyP5LbfcvFDEM3w2V0ZGy5Hr",
      "include_colab_link": true
    },
    "kernelspec": {
      "name": "python3",
      "display_name": "Python 3"
    }
  },
  "cells": [
    {
      "cell_type": "markdown",
      "metadata": {
        "id": "view-in-github",
        "colab_type": "text"
      },
      "source": [
        "<a href=\"https://colab.research.google.com/github/srinijadharani/python-practice/blob/master/practice(02_07).ipynb\" target=\"_parent\"><img src=\"https://colab.research.google.com/assets/colab-badge.svg\" alt=\"Open In Colab\"/></a>"
      ]
    },
    {
      "cell_type": "markdown",
      "metadata": {
        "id": "_OIyATMGrYjS",
        "colab_type": "text"
      },
      "source": [
        "## **DICTIONARIES**<br> \n",
        "###### Unordered sequence data structure. Key-value pairs. \"Keys\" are immutable and unique (cannot duplicate keys). \"Values\" are mutable (can duplicate values). We extract dictionaries using \"keys\"."
      ]
    },
    {
      "cell_type": "code",
      "metadata": {
        "id": "cW2LJ79VrLEB",
        "colab_type": "code",
        "colab": {
          "base_uri": "https://localhost:8080/",
          "height": 34
        },
        "outputId": "ad67064d-5fca-40a6-8758-1940239a8d8d"
      },
      "source": [
        "dict1 = {\"one\":1,\"two\":2,\"three\":3}\n",
        "print(\"Dictionary:\",dict1)"
      ],
      "execution_count": 1,
      "outputs": [
        {
          "output_type": "stream",
          "text": [
            "Dictionary: {'one': 1, 'two': 2, 'three': 3}\n"
          ],
          "name": "stdout"
        }
      ]
    },
    {
      "cell_type": "code",
      "metadata": {
        "id": "J7gQuX19vcBi",
        "colab_type": "code",
        "colab": {
          "base_uri": "https://localhost:8080/",
          "height": 34
        },
        "outputId": "9258e1a6-318a-40b8-bff2-055cac55e468"
      },
      "source": [
        "dict1[\"one\"]"
      ],
      "execution_count": 2,
      "outputs": [
        {
          "output_type": "execute_result",
          "data": {
            "text/plain": [
              "1"
            ]
          },
          "metadata": {
            "tags": []
          },
          "execution_count": 2
        }
      ]
    },
    {
      "cell_type": "code",
      "metadata": {
        "id": "C2VoJTVtwCdk",
        "colab_type": "code",
        "colab": {
          "base_uri": "https://localhost:8080/",
          "height": 34
        },
        "outputId": "566cc323-8ac5-450b-a499-cebf33e9039f"
      },
      "source": [
        "print(type(dict1))"
      ],
      "execution_count": 3,
      "outputs": [
        {
          "output_type": "stream",
          "text": [
            "<class 'dict'>\n"
          ],
          "name": "stdout"
        }
      ]
    },
    {
      "cell_type": "code",
      "metadata": {
        "id": "ButI99BGwyF3",
        "colab_type": "code",
        "colab": {
          "base_uri": "https://localhost:8080/",
          "height": 34
        },
        "outputId": "b46b2398-d2e0-49a3-983d-d1957d982d6b"
      },
      "source": [
        "len_dict = len(dict1)\n",
        "print(\"Length:\",len_dict)"
      ],
      "execution_count": 4,
      "outputs": [
        {
          "output_type": "stream",
          "text": [
            "Length: 3\n"
          ],
          "name": "stdout"
        }
      ]
    },
    {
      "cell_type": "code",
      "metadata": {
        "id": "qNWyvpnyw9ma",
        "colab_type": "code",
        "colab": {
          "base_uri": "https://localhost:8080/",
          "height": 34
        },
        "outputId": "098ee981-88b2-4dd0-f4ca-92c9dbb6a89f"
      },
      "source": [
        "dict1.keys()"
      ],
      "execution_count": 5,
      "outputs": [
        {
          "output_type": "execute_result",
          "data": {
            "text/plain": [
              "dict_keys(['one', 'two', 'three'])"
            ]
          },
          "metadata": {
            "tags": []
          },
          "execution_count": 5
        }
      ]
    },
    {
      "cell_type": "code",
      "metadata": {
        "id": "WJdPenRxxAxn",
        "colab_type": "code",
        "colab": {
          "base_uri": "https://localhost:8080/",
          "height": 34
        },
        "outputId": "36cfd524-0425-4428-a761-aed61e69e76a"
      },
      "source": [
        "dict1.values()"
      ],
      "execution_count": 6,
      "outputs": [
        {
          "output_type": "execute_result",
          "data": {
            "text/plain": [
              "dict_values([1, 2, 3])"
            ]
          },
          "metadata": {
            "tags": []
          },
          "execution_count": 6
        }
      ]
    },
    {
      "cell_type": "code",
      "metadata": {
        "id": "2E3LcQ6xxEKB",
        "colab_type": "code",
        "colab": {
          "base_uri": "https://localhost:8080/",
          "height": 34
        },
        "outputId": "0b24c60a-561e-4cfd-e945-48cdf258236b"
      },
      "source": [
        "dict1[\"three\"]"
      ],
      "execution_count": 7,
      "outputs": [
        {
          "output_type": "execute_result",
          "data": {
            "text/plain": [
              "3"
            ]
          },
          "metadata": {
            "tags": []
          },
          "execution_count": 7
        }
      ]
    },
    {
      "cell_type": "code",
      "metadata": {
        "id": "NrHSXTeCxUTC",
        "colab_type": "code",
        "colab": {}
      },
      "source": [
        "dict1[\"four\"] = 4"
      ],
      "execution_count": 8,
      "outputs": []
    },
    {
      "cell_type": "code",
      "metadata": {
        "id": "Ji6hW6sexymW",
        "colab_type": "code",
        "colab": {
          "base_uri": "https://localhost:8080/",
          "height": 34
        },
        "outputId": "13b70c64-69fc-40b4-9056-065992652633"
      },
      "source": [
        "dict1"
      ],
      "execution_count": 9,
      "outputs": [
        {
          "output_type": "execute_result",
          "data": {
            "text/plain": [
              "{'four': 4, 'one': 1, 'three': 3, 'two': 2}"
            ]
          },
          "metadata": {
            "tags": []
          },
          "execution_count": 9
        }
      ]
    },
    {
      "cell_type": "code",
      "metadata": {
        "id": "lu5zSGewypUC",
        "colab_type": "code",
        "colab": {
          "base_uri": "https://localhost:8080/",
          "height": 52
        },
        "outputId": "62c7a14a-331d-44b3-f4b5-c85aefbae2a6"
      },
      "source": [
        "print(dict1)\n",
        "dict1[\"one\"]=1.00\n",
        "print(dict1)"
      ],
      "execution_count": 10,
      "outputs": [
        {
          "output_type": "stream",
          "text": [
            "{'one': 1, 'two': 2, 'three': 3, 'four': 4}\n",
            "{'one': 1.0, 'two': 2, 'three': 3, 'four': 4}\n"
          ],
          "name": "stdout"
        }
      ]
    },
    {
      "cell_type": "markdown",
      "metadata": {
        "id": "JrtWTSBc59dw",
        "colab_type": "text"
      },
      "source": [
        "**DELETE ITEMS**"
      ]
    },
    {
      "cell_type": "code",
      "metadata": {
        "id": "qAtJanZqy1wR",
        "colab_type": "code",
        "colab": {
          "base_uri": "https://localhost:8080/",
          "height": 52
        },
        "outputId": "320f1486-7318-4585-e6e4-803ef8e8224c"
      },
      "source": [
        "print(dict1)\n",
        "del dict1[\"four\"]\n",
        "print(dict1)"
      ],
      "execution_count": 11,
      "outputs": [
        {
          "output_type": "stream",
          "text": [
            "{'one': 1.0, 'two': 2, 'three': 3, 'four': 4}\n",
            "{'one': 1.0, 'two': 2, 'three': 3}\n"
          ],
          "name": "stdout"
        }
      ]
    },
    {
      "cell_type": "code",
      "metadata": {
        "id": "SY4kUDlPy9zU",
        "colab_type": "code",
        "colab": {
          "base_uri": "https://localhost:8080/",
          "height": 52
        },
        "outputId": "7c9a70a1-458e-4f0b-819c-c30790153533"
      },
      "source": [
        "print(dict1)\n",
        "dict1.pop(\"three\")\n",
        "print(dict1)"
      ],
      "execution_count": 12,
      "outputs": [
        {
          "output_type": "stream",
          "text": [
            "{'one': 1.0, 'two': 2, 'three': 3}\n",
            "{'one': 1.0, 'two': 2}\n"
          ],
          "name": "stdout"
        }
      ]
    },
    {
      "cell_type": "code",
      "metadata": {
        "id": "4hkIW_s2zKp-",
        "colab_type": "code",
        "colab": {
          "base_uri": "https://localhost:8080/",
          "height": 52
        },
        "outputId": "a4a8efc7-0aa2-4004-8947-8b58b7bf5307"
      },
      "source": [
        "dict1 = {\"one\":1,\"two\":2,\"three\":3}\n",
        "print(dict1)\n",
        "dict1.popitem()\n",
        "print(dict1)"
      ],
      "execution_count": 13,
      "outputs": [
        {
          "output_type": "stream",
          "text": [
            "{'one': 1, 'two': 2, 'three': 3}\n",
            "{'one': 1, 'two': 2}\n"
          ],
          "name": "stdout"
        }
      ]
    },
    {
      "cell_type": "code",
      "metadata": {
        "id": "kdMuI5V3zfye",
        "colab_type": "code",
        "colab": {
          "base_uri": "https://localhost:8080/",
          "height": 52
        },
        "outputId": "41339bb1-afb1-4425-d495-21b03f827d9c"
      },
      "source": [
        "print(dict1)\n",
        "dict1.clear()\n",
        "print(dict1)"
      ],
      "execution_count": 14,
      "outputs": [
        {
          "output_type": "stream",
          "text": [
            "{'one': 1, 'two': 2}\n",
            "{}\n"
          ],
          "name": "stdout"
        }
      ]
    },
    {
      "cell_type": "code",
      "metadata": {
        "id": "DeaOK_5Cz3ie",
        "colab_type": "code",
        "colab": {
          "base_uri": "https://localhost:8080/",
          "height": 202
        },
        "outputId": "7fe8aae6-c3f5-4f17-f9a1-864e1ffc0eff"
      },
      "source": [
        "dict1 = {\"one\":1,\"two\":2,\"three\":3}\n",
        "del(dict1)  #deletes the entire list permamently\n",
        "print(dict1)"
      ],
      "execution_count": 16,
      "outputs": [
        {
          "output_type": "error",
          "ename": "NameError",
          "evalue": "ignored",
          "traceback": [
            "\u001b[0;31m---------------------------------------------------------------------------\u001b[0m",
            "\u001b[0;31mNameError\u001b[0m                                 Traceback (most recent call last)",
            "\u001b[0;32m<ipython-input-16-4c64ef57c7cd>\u001b[0m in \u001b[0;36m<module>\u001b[0;34m()\u001b[0m\n\u001b[1;32m      1\u001b[0m \u001b[0mdict1\u001b[0m \u001b[0;34m=\u001b[0m \u001b[0;34m{\u001b[0m\u001b[0;34m\"one\"\u001b[0m\u001b[0;34m:\u001b[0m\u001b[0;36m1\u001b[0m\u001b[0;34m,\u001b[0m\u001b[0;34m\"two\"\u001b[0m\u001b[0;34m:\u001b[0m\u001b[0;36m2\u001b[0m\u001b[0;34m,\u001b[0m\u001b[0;34m\"three\"\u001b[0m\u001b[0;34m:\u001b[0m\u001b[0;36m3\u001b[0m\u001b[0;34m}\u001b[0m\u001b[0;34m\u001b[0m\u001b[0;34m\u001b[0m\u001b[0m\n\u001b[1;32m      2\u001b[0m \u001b[0;32mdel\u001b[0m\u001b[0;34m(\u001b[0m\u001b[0mdict1\u001b[0m\u001b[0;34m)\u001b[0m  \u001b[0;31m#deletes the entire list permamently\u001b[0m\u001b[0;34m\u001b[0m\u001b[0;34m\u001b[0m\u001b[0m\n\u001b[0;32m----> 3\u001b[0;31m \u001b[0mprint\u001b[0m\u001b[0;34m(\u001b[0m\u001b[0mdict1\u001b[0m\u001b[0;34m)\u001b[0m\u001b[0;34m\u001b[0m\u001b[0;34m\u001b[0m\u001b[0m\n\u001b[0m",
            "\u001b[0;31mNameError\u001b[0m: name 'dict1' is not defined"
          ]
        }
      ]
    },
    {
      "cell_type": "markdown",
      "metadata": {
        "id": "a0lx2Rpz6JdA",
        "colab_type": "text"
      },
      "source": [
        "**COPY ONE DICTIONARY ONTO ANOTHER AND UPDATE VALUES.**"
      ]
    },
    {
      "cell_type": "code",
      "metadata": {
        "id": "2g9fxYlk0MUz",
        "colab_type": "code",
        "colab": {
          "base_uri": "https://localhost:8080/",
          "height": 52
        },
        "outputId": "ab390a1d-f486-4ed0-abf3-38870a32375f"
      },
      "source": [
        "dict1 = {\"one\":1,\"two\":2,\"three\":3}\n",
        "print(\"Original dictionary:\",dict1)\n",
        "copy_dict = dict1.copy()\n",
        "print(\"Copied dictionary:\",copy_dict)"
      ],
      "execution_count": 17,
      "outputs": [
        {
          "output_type": "stream",
          "text": [
            "Original dictionary: {'one': 1, 'two': 2, 'three': 3}\n",
            "Copied dictionary: {'one': 1, 'two': 2, 'three': 3}\n"
          ],
          "name": "stdout"
        }
      ]
    },
    {
      "cell_type": "code",
      "metadata": {
        "id": "jei9-yZC0v2F",
        "colab_type": "code",
        "colab": {
          "base_uri": "https://localhost:8080/",
          "height": 52
        },
        "outputId": "c67da310-fbe0-4ed1-8927-50f096c456c6"
      },
      "source": [
        "dict1[\"four\"] = 4\n",
        "print(\"Original dictionary:\",dict1)\n",
        "print(\"Copied dictionary:\",copy_dict)"
      ],
      "execution_count": 18,
      "outputs": [
        {
          "output_type": "stream",
          "text": [
            "Original dictionary: {'one': 1, 'two': 2, 'three': 3, 'four': 4}\n",
            "Copied dictionary: {'one': 1, 'two': 2, 'three': 3}\n"
          ],
          "name": "stdout"
        }
      ]
    },
    {
      "cell_type": "code",
      "metadata": {
        "id": "Mj_FurQr1ewu",
        "colab_type": "code",
        "colab": {
          "base_uri": "https://localhost:8080/",
          "height": 34
        },
        "outputId": "413fa6ab-4f73-4e26-f95d-b700c8909ca1"
      },
      "source": [
        "dict2 = {\"five\":5}\n",
        "dict1.update(dict2)\n",
        "print(dict1)"
      ],
      "execution_count": 19,
      "outputs": [
        {
          "output_type": "stream",
          "text": [
            "{'one': 1, 'two': 2, 'three': 3, 'four': 4, 'five': 5}\n"
          ],
          "name": "stdout"
        }
      ]
    },
    {
      "cell_type": "code",
      "metadata": {
        "id": "VU6hYzYJ1rT0",
        "colab_type": "code",
        "colab": {
          "base_uri": "https://localhost:8080/",
          "height": 34
        },
        "outputId": "3696227e-9f36-4cff-d9ec-78653b65d526"
      },
      "source": [
        "dict3 = {\"six\":6}\n",
        "dict1.update(dict3)\n",
        "print(dict1)"
      ],
      "execution_count": 20,
      "outputs": [
        {
          "output_type": "stream",
          "text": [
            "{'one': 1, 'two': 2, 'three': 3, 'four': 4, 'five': 5, 'six': 6}\n"
          ],
          "name": "stdout"
        }
      ]
    },
    {
      "cell_type": "code",
      "metadata": {
        "id": "mIHNAacF148G",
        "colab_type": "code",
        "colab": {
          "base_uri": "https://localhost:8080/",
          "height": 70
        },
        "outputId": "71a6dd0e-2f74-4ffe-d828-4c0afcf35e32"
      },
      "source": [
        "dlist = {1:[10,20,30],2:[100,200,300]}\n",
        "print(dlist)\n",
        "print(\"Keys:\",dlist.keys())\n",
        "print(\"Values:\",dlist.values())"
      ],
      "execution_count": 22,
      "outputs": [
        {
          "output_type": "stream",
          "text": [
            "{1: [10, 20, 30], 2: [100, 200, 300]}\n",
            "Keys: dict_keys([1, 2])\n",
            "Values: dict_values([[10, 20, 30], [100, 200, 300]])\n"
          ],
          "name": "stdout"
        }
      ]
    },
    {
      "cell_type": "markdown",
      "metadata": {
        "id": "EQv4Vy255xzY",
        "colab_type": "text"
      },
      "source": [
        "**CHECK VALUES IN DICT**"
      ]
    },
    {
      "cell_type": "code",
      "metadata": {
        "id": "PAAvTfV32fWH",
        "colab_type": "code",
        "colab": {
          "base_uri": "https://localhost:8080/",
          "height": 34
        },
        "outputId": "dbd75558-4eee-42a1-c9d6-943f9c5f5786"
      },
      "source": [
        "1 in dlist"
      ],
      "execution_count": 23,
      "outputs": [
        {
          "output_type": "execute_result",
          "data": {
            "text/plain": [
              "True"
            ]
          },
          "metadata": {
            "tags": []
          },
          "execution_count": 23
        }
      ]
    },
    {
      "cell_type": "code",
      "metadata": {
        "id": "DgtmbMMX234n",
        "colab_type": "code",
        "colab": {
          "base_uri": "https://localhost:8080/",
          "height": 34
        },
        "outputId": "81418836-e41a-4eb6-cbd1-85fa744e0621"
      },
      "source": [
        "3 in dict1"
      ],
      "execution_count": 24,
      "outputs": [
        {
          "output_type": "execute_result",
          "data": {
            "text/plain": [
              "False"
            ]
          },
          "metadata": {
            "tags": []
          },
          "execution_count": 24
        }
      ]
    },
    {
      "cell_type": "code",
      "metadata": {
        "id": "dOYLUF5629E4",
        "colab_type": "code",
        "colab": {
          "base_uri": "https://localhost:8080/",
          "height": 34
        },
        "outputId": "db9c2839-f62b-482a-ccda-eec5b29195bc"
      },
      "source": [
        "\"three\" in dict1"
      ],
      "execution_count": 25,
      "outputs": [
        {
          "output_type": "execute_result",
          "data": {
            "text/plain": [
              "True"
            ]
          },
          "metadata": {
            "tags": []
          },
          "execution_count": 25
        }
      ]
    },
    {
      "cell_type": "code",
      "metadata": {
        "id": "fQKkeTGd3Ai_",
        "colab_type": "code",
        "colab": {
          "base_uri": "https://localhost:8080/",
          "height": 34
        },
        "outputId": "10bf3b74-9f34-4834-dc5e-af4f0c0e84f7"
      },
      "source": [
        "3 in dict1.values()"
      ],
      "execution_count": 26,
      "outputs": [
        {
          "output_type": "execute_result",
          "data": {
            "text/plain": [
              "True"
            ]
          },
          "metadata": {
            "tags": []
          },
          "execution_count": 26
        }
      ]
    },
    {
      "cell_type": "markdown",
      "metadata": {
        "id": "SbnGCWFU51TX",
        "colab_type": "text"
      },
      "source": [
        "**ASSIGN KEY:VALUE PAIRS USING FOR LOOP (called dictionaryr comprehension)**"
      ]
    },
    {
      "cell_type": "code",
      "metadata": {
        "id": "yVF1tsB63klu",
        "colab_type": "code",
        "colab": {
          "base_uri": "https://localhost:8080/",
          "height": 34
        },
        "outputId": "e2783b74-809a-4f35-918d-b879c41f4a1a"
      },
      "source": [
        "mydict = {key : key * 4 for key in range(1,6)}\n",
        "print(mydict)"
      ],
      "execution_count": 29,
      "outputs": [
        {
          "output_type": "stream",
          "text": [
            "{1: 4, 2: 8, 3: 12, 4: 16, 5: 20}\n"
          ],
          "name": "stdout"
        }
      ]
    },
    {
      "cell_type": "markdown",
      "metadata": {
        "id": "LU4LXcOM6Cbx",
        "colab_type": "text"
      },
      "source": [
        "**ZIPPING**"
      ]
    },
    {
      "cell_type": "code",
      "metadata": {
        "id": "svnKx2234l-D",
        "colab_type": "code",
        "colab": {}
      },
      "source": [
        "cgpa = [10,9,8,7]\n",
        "grade = [\"O\",\"A\",\"B\",\"C\"]"
      ],
      "execution_count": 30,
      "outputs": []
    },
    {
      "cell_type": "code",
      "metadata": {
        "id": "Uwc66v9k6Zqu",
        "colab_type": "code",
        "colab": {}
      },
      "source": [
        "dzip = {k:v for (k,v) in zip(cgpa,grade)}"
      ],
      "execution_count": 33,
      "outputs": []
    },
    {
      "cell_type": "code",
      "metadata": {
        "id": "Merx_zKj6zu9",
        "colab_type": "code",
        "colab": {
          "base_uri": "https://localhost:8080/",
          "height": 34
        },
        "outputId": "df67fd5a-956c-4c4a-fc25-bb686c6b661f"
      },
      "source": [
        "print(\"Zipped Dictionary:\",dzip)"
      ],
      "execution_count": 34,
      "outputs": [
        {
          "output_type": "stream",
          "text": [
            "Zipped Dictionary: {10: 'O', 9: 'A', 8: 'B', 7: 'C'}\n"
          ],
          "name": "stdout"
        }
      ]
    },
    {
      "cell_type": "code",
      "metadata": {
        "id": "HExlk1--7BH6",
        "colab_type": "code",
        "colab": {
          "base_uri": "https://localhost:8080/",
          "height": 34
        },
        "outputId": "224d545c-7b82-431c-e59b-fe563512bf6d"
      },
      "source": [
        "num = [0,1,2,3,4,5,6]\n",
        "day = [\"Sunday\",\"Monday\",\"Tuesday\",\"Wednesday\",\"Thursday\",\"Friday\",\"Saturday\"]\n",
        "dzip = {k:v for (k,v) in zip(num,day)}\n",
        "print(\"Zipped Dictionary:\",dzip)"
      ],
      "execution_count": 36,
      "outputs": [
        {
          "output_type": "stream",
          "text": [
            "Zipped Dictionary: {0: 'Sunday', 1: 'Monday', 2: 'Tuesday', 3: 'Wednesday', 4: 'Thursday', 5: 'Friday', 6: 'Saturday'}\n"
          ],
          "name": "stdout"
        }
      ]
    },
    {
      "cell_type": "code",
      "metadata": {
        "id": "Hor_draR7YQA",
        "colab_type": "code",
        "colab": {
          "base_uri": "https://localhost:8080/",
          "height": 34
        },
        "outputId": "fd7dedc9-3e72-42ed-df01-8fd84ab5f1cc"
      },
      "source": [
        "l = range(1,6)\n",
        "dnew = dict.fromkeys(l,10)\n",
        "print(dnew)"
      ],
      "execution_count": 37,
      "outputs": [
        {
          "output_type": "stream",
          "text": [
            "{1: 10, 2: 10, 3: 10, 4: 10, 5: 10}\n"
          ],
          "name": "stdout"
        }
      ]
    },
    {
      "cell_type": "code",
      "metadata": {
        "id": "C9g5Vfd18jg8",
        "colab_type": "code",
        "colab": {
          "base_uri": "https://localhost:8080/",
          "height": 34
        },
        "outputId": "f9a4a90c-6fe7-4ee7-9cce-66c563af4113"
      },
      "source": [
        "dnew.setdefault(11,56)\n",
        "print(dnew)"
      ],
      "execution_count": 38,
      "outputs": [
        {
          "output_type": "stream",
          "text": [
            "{1: 10, 2: 10, 3: 10, 4: 10, 5: 10, 11: 56}\n"
          ],
          "name": "stdout"
        }
      ]
    },
    {
      "cell_type": "code",
      "metadata": {
        "id": "BYoRMZJP8-pz",
        "colab_type": "code",
        "colab": {
          "base_uri": "https://localhost:8080/",
          "height": 34
        },
        "outputId": "7432124f-e2f2-45f3-85a6-e4914ee4b3f5"
      },
      "source": [
        "dict1 = {\"one\":1,\"two\":2,\"three\":3,\"four\":4}\n",
        "mylist = list(dict1)\n",
        "print(\"List:\",mylist)"
      ],
      "execution_count": 39,
      "outputs": [
        {
          "output_type": "stream",
          "text": [
            "List: ['one', 'two', 'three', 'four']\n"
          ],
          "name": "stdout"
        }
      ]
    },
    {
      "cell_type": "code",
      "metadata": {
        "id": "FC1imCuD9TYU",
        "colab_type": "code",
        "colab": {
          "base_uri": "https://localhost:8080/",
          "height": 34
        },
        "outputId": "214e438f-ec7c-4042-b5f4-5ea0d6b9bd6b"
      },
      "source": [
        "mylist = list(dict1.items())\n",
        "print(mylist)"
      ],
      "execution_count": 40,
      "outputs": [
        {
          "output_type": "stream",
          "text": [
            "[('one', 1), ('two', 2), ('three', 3), ('four', 4)]\n"
          ],
          "name": "stdout"
        }
      ]
    },
    {
      "cell_type": "markdown",
      "metadata": {
        "id": "R7nWzrU2-MHO",
        "colab_type": "text"
      },
      "source": [
        "**Count the character frequency in a given string using dictionaries.**"
      ]
    },
    {
      "cell_type": "code",
      "metadata": {
        "id": "q2_P3E_893Pr",
        "colab_type": "code",
        "colab": {
          "base_uri": "https://localhost:8080/",
          "height": 52
        },
        "outputId": "f662ed77-63af-4830-8e2c-9e9d0f97b9d3"
      },
      "source": [
        "s = input(\"Enter a string: \")\n",
        "dict1 = dict()\n",
        "for char in s:\n",
        "  if char not in dict1:\n",
        "    dict1[char] = 1\n",
        "  else:\n",
        "    dict1[char] += 1\n",
        "print(dict1)"
      ],
      "execution_count": 43,
      "outputs": [
        {
          "output_type": "stream",
          "text": [
            "Enter a string: malayalam\n",
            "{'m': 2, 'a': 4, 'l': 2, 'y': 1}\n"
          ],
          "name": "stdout"
        }
      ]
    },
    {
      "cell_type": "code",
      "metadata": {
        "id": "sU0S_qGn-n7z",
        "colab_type": "code",
        "colab": {}
      },
      "source": [
        "f = open(\"file.txt\",\"w\")\n",
        "f.write(\"\"\"Hello! a nice coat.\n",
        "How are you?\n",
        "Have a nice day!\n",
        "Adios.\"\"\")\n",
        "f.close()"
      ],
      "execution_count": 54,
      "outputs": []
    },
    {
      "cell_type": "code",
      "metadata": {
        "id": "ClJe24KOCHz4",
        "colab_type": "code",
        "colab": {
          "base_uri": "https://localhost:8080/",
          "height": 34
        },
        "outputId": "b130bc12-4d24-4241-c4da-c4fc22c0b9c0"
      },
      "source": [
        "f = open(\"file.txt\",\"r\")\n",
        "\n",
        "d = dict()\n",
        "for line in f:\n",
        "  for word in line.split():\n",
        "    d[word] = d.get(word,0) + 1\n",
        "print(d)"
      ],
      "execution_count": 55,
      "outputs": [
        {
          "output_type": "stream",
          "text": [
            "{'Hello!': 1, 'a': 2, 'nice': 2, 'coat.': 1, 'How': 1, 'are': 1, 'you?': 1, 'Have': 1, 'day!': 1, 'Adios.': 1}\n"
          ],
          "name": "stdout"
        }
      ]
    }
  ]
}
{
 "cells": [
  {
   "cell_type": "markdown",
   "metadata": {},
   "source": [
    "## File Handling\n",
    "\n",
    "1. Creating a file\n",
    "2. Adding content to the file\n",
    "3. Reading content from a file\n",
    "4. Renaming a file\n",
    "5. Removing a file\n",
    "\n",
    "**MODES**\n",
    "\n",
    "1. read - r (file should be pre-existing)\n",
    "2. write - w (if the file doesn't pre-exist, a new file will be created automatically)\n",
    "3. append - a (if the file doesn't pre-exist, a new file will be created automatically)\n",
    "4. create - x (if the file doesn't pre-exist, a new file will be created automatically)\n",
    "5. read and write - r+\n",
    "\n",
    "**BASIC FUNCTIONS**\n",
    "\n",
    "1. open()\n",
    "2. close()"
   ]
  },
  {
   "cell_type": "code",
   "execution_count": 1,
   "metadata": {},
   "outputs": [],
   "source": [
    "f=open(\"demo.txt\")\n",
    "f.close()"
   ]
  },
  {
   "cell_type": "code",
   "execution_count": 2,
   "metadata": {},
   "outputs": [
    {
     "name": "stdout",
     "output_type": "stream",
     "text": [
      "I need i7 processor for machine learning and image processing I guess.\n",
      "Do I need a new laptop?\n",
      "Hey\n",
      "there!\n",
      "<class 'str'>\n"
     ]
    }
   ],
   "source": [
    "f=open(\"demo.txt\",\"r\")\n",
    "str=f.read()\n",
    "print(str)\n",
    "print(type(str))\n",
    "f.close()"
   ]
  },
  {
   "cell_type": "code",
   "execution_count": 3,
   "metadata": {},
   "outputs": [],
   "source": [
    "f=open(\"demo.txt\",\"a\")\n",
    "str=\"\"\"\\nHey\n",
    "there!\"\"\"\n",
    "f.write(str)\n",
    "f.close()"
   ]
  },
  {
   "cell_type": "code",
   "execution_count": 4,
   "metadata": {},
   "outputs": [],
   "source": [
    "import os\n",
    "os.rename(\"demo.txt\",\"test.txt\")"
   ]
  },
  {
   "cell_type": "code",
   "execution_count": 5,
   "metadata": {},
   "outputs": [],
   "source": [
    "import os\n",
    "os.remove(\"test.txt\")"
   ]
  },
  {
   "cell_type": "code",
   "execution_count": 8,
   "metadata": {},
   "outputs": [],
   "source": [
    "f2 = open(\"file2.txt\",\"w\")\n",
    "f1 = open(\"file1.txt\",\"r\")\n",
    "for line in f1:\n",
    "    f2.write(line)\n",
    "f1.close()\n",
    "f2.close()"
   ]
  },
  {
   "cell_type": "code",
   "execution_count": 3,
   "metadata": {},
   "outputs": [],
   "source": [
    "f3=open(\"file3.txt\",\"w\")\n",
    "s=\"\"\"Hey there!\n",
    "Hello!\n",
    "Hola!\n",
    "Ciao!\"\"\"\n",
    "f3.write(s)\n",
    "f3.close()"
   ]
  },
  {
   "cell_type": "code",
   "execution_count": 4,
   "metadata": {},
   "outputs": [
    {
     "name": "stdout",
     "output_type": "stream",
     "text": [
      "29\n"
     ]
    }
   ],
   "source": [
    "f=open(\"file3.txt\",\"r\")\n",
    "s=f.read()\n",
    "print(len(s))\n",
    "f.close()"
   ]
  },
  {
   "cell_type": "code",
   "execution_count": 5,
   "metadata": {},
   "outputs": [
    {
     "name": "stdout",
     "output_type": "stream",
     "text": [
      "29\n",
      "['Hey', 'there!', 'Hello!', 'Hola!', 'Ciao!']\n",
      "5\n"
     ]
    }
   ],
   "source": [
    "f=open(\"file3.txt\",\"r\")\n",
    "s=f.read()\n",
    "print(len(s))\n",
    "print(s.split())\n",
    "print(len(s.split()))\n",
    "f.close()"
   ]
  },
  {
   "cell_type": "markdown",
   "metadata": {},
   "source": [
    "**EXCEPTION HANDLING**"
   ]
  },
  {
   "cell_type": "code",
   "execution_count": 6,
   "metadata": {},
   "outputs": [
    {
     "ename": "FileNotFoundError",
     "evalue": "[Errno 2] No such file or directory: 'file4.txt'",
     "output_type": "error",
     "traceback": [
      "\u001b[1;31m---------------------------------------------------------------------------\u001b[0m",
      "\u001b[1;31mFileNotFoundError\u001b[0m                         Traceback (most recent call last)",
      "\u001b[1;32m<ipython-input-6-995768e55bfd>\u001b[0m in \u001b[0;36m<module>\u001b[1;34m\u001b[0m\n\u001b[1;32m----> 1\u001b[1;33m \u001b[0mf\u001b[0m\u001b[1;33m=\u001b[0m\u001b[0mopen\u001b[0m\u001b[1;33m(\u001b[0m\u001b[1;34m\"file4.txt\"\u001b[0m\u001b[1;33m)\u001b[0m\u001b[1;33m\u001b[0m\u001b[1;33m\u001b[0m\u001b[0m\n\u001b[0m\u001b[0;32m      2\u001b[0m \u001b[0mf\u001b[0m\u001b[1;33m.\u001b[0m\u001b[0mclose\u001b[0m\u001b[1;33m(\u001b[0m\u001b[1;33m)\u001b[0m\u001b[1;33m\u001b[0m\u001b[1;33m\u001b[0m\u001b[0m\n",
      "\u001b[1;31mFileNotFoundError\u001b[0m: [Errno 2] No such file or directory: 'file4.txt'"
     ]
    }
   ],
   "source": [
    "f=open(\"file4.txt\")\n",
    "f.close()"
   ]
  },
  {
   "cell_type": "code",
   "execution_count": 7,
   "metadata": {},
   "outputs": [
    {
     "name": "stdout",
     "output_type": "stream",
     "text": [
      "Such file doesn't exist.\n"
     ]
    }
   ],
   "source": [
    "try:\n",
    "    f=open(\"file4.txt\")\n",
    "except:\n",
    "    print(\"Such file doesn't exist.\")\n",
    "finally:\n",
    "    f.close()"
   ]
  },
  {
   "cell_type": "code",
   "execution_count": 9,
   "metadata": {},
   "outputs": [
    {
     "name": "stdout",
     "output_type": "stream",
     "text": [
      "1 2\t 3\n",
      " 4\n",
      "Representation of s is: '1 2\\t 3\\n 4'\n"
     ]
    }
   ],
   "source": [
    "s=\"1 2\\t 3\\n 4\"\n",
    "print(s)\n",
    "print(\"Representation of s is:\",repr(s))"
   ]
  }
 ],
 "metadata": {
  "kernelspec": {
   "display_name": "Python 3",
   "language": "python",
   "name": "python3"
  },
  "language_info": {
   "codemirror_mode": {
    "name": "ipython",
    "version": 3
   },
   "file_extension": ".py",
   "mimetype": "text/x-python",
   "name": "python",
   "nbconvert_exporter": "python",
   "pygments_lexer": "ipython3",
   "version": "3.7.6"
  }
 },
 "nbformat": 4,
 "nbformat_minor": 4
}

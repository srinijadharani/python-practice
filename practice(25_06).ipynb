{
 "cells": [
  {
   "cell_type": "markdown",
   "metadata": {},
   "source": [
    "**Print all even numbers from 0 to 20.**"
   ]
  },
  {
   "cell_type": "code",
   "execution_count": 40,
   "metadata": {},
   "outputs": [
    {
     "name": "stdout",
     "output_type": "stream",
     "text": [
      "0 2 4 6 8 10 12 14 16 18 20 "
     ]
    }
   ],
   "source": [
    "for i in range(0,22,2):\n",
    "    print(i, end=\" \")"
   ]
  },
  {
   "cell_type": "markdown",
   "metadata": {},
   "source": [
    "**Print even and odd numbers from 0 to 50.**"
   ]
  },
  {
   "cell_type": "code",
   "execution_count": 9,
   "metadata": {},
   "outputs": [
    {
     "name": "stdout",
     "output_type": "stream",
     "text": [
      "Even numbers: \n",
      "0 2 4 6 8 10 12 14 16 18 20 22 24 26 28 30 32 34 36 38 40 42 44 46 48 Odd numbers: \n",
      "1 3 5 7 9 11 13 15 17 19 21 23 25 27 29 31 33 35 37 39 41 43 45 47 49 "
     ]
    }
   ],
   "source": [
    "print(\"Even numbers: \")\n",
    "for i in range(0,50,2):\n",
    "    print(i,end=\" \")\n",
    "print(\"Odd numbers: \")\n",
    "for i in range(1,50,2):\n",
    "    print(i,end=\" \")\n",
    "   "
   ]
  },
  {
   "cell_type": "code",
   "execution_count": 11,
   "metadata": {},
   "outputs": [
    {
     "name": "stdout",
     "output_type": "stream",
     "text": [
      "-5 -4 -3 -2 -1 0 1 2 3 4 5 6 7 8 9 "
     ]
    }
   ],
   "source": [
    "for i in range(-5,10,1):\n",
    "    print(i, end=\" \")  #voila! number line "
   ]
  },
  {
   "cell_type": "code",
   "execution_count": 12,
   "metadata": {},
   "outputs": [
    {
     "name": "stdout",
     "output_type": "stream",
     "text": [
      "-5 -7 -9 -11 -13 -15 -17 -19 "
     ]
    }
   ],
   "source": [
    "for i in range(-5,-21,-2):\n",
    "    print(i, end=\" \")"
   ]
  },
  {
   "cell_type": "code",
   "execution_count": 16,
   "metadata": {},
   "outputs": [
    {
     "name": "stdout",
     "output_type": "stream",
     "text": [
      "5 6 7 8 9 10 11 12 13 14 15 16 17 18 19 "
     ]
    }
   ],
   "source": [
    "for i in range(5,20,int(1.5)):\n",
    "    print(i, end=\" \")"
   ]
  },
  {
   "cell_type": "markdown",
   "metadata": {},
   "source": [
    "In range, all the arguments must be integers and the step shoould be 1 or above."
   ]
  },
  {
   "cell_type": "code",
   "execution_count": 19,
   "metadata": {},
   "outputs": [
    {
     "name": "stdout",
     "output_type": "stream",
     "text": [
      "A S H W I N "
     ]
    },
    {
     "data": {
      "text/plain": [
       "6"
      ]
     },
     "execution_count": 19,
     "metadata": {},
     "output_type": "execute_result"
    }
   ],
   "source": [
    "for char in \"ASHWIN\":\n",
    "    print(char, end=\" \")\n",
    "len(\"ASHWIN\")"
   ]
  },
  {
   "cell_type": "markdown",
   "metadata": {},
   "source": [
    "**Print the sum and average of numbers present in a list using both built in functions and for loop.**"
   ]
  },
  {
   "cell_type": "code",
   "execution_count": 25,
   "metadata": {},
   "outputs": [
    {
     "name": "stdout",
     "output_type": "stream",
     "text": [
      "Sum= 31 and average= 4.428571428571429\n"
     ]
    }
   ],
   "source": [
    "mynums=[1,2,5,6,7,8,2]\n",
    "summ= sum(mynums)\n",
    "avg=sum(mynums)/len(mynums)\n",
    "print(\"Sum=\",summ,\"and average=\",avg)"
   ]
  },
  {
   "cell_type": "code",
   "execution_count": 27,
   "metadata": {},
   "outputs": [
    {
     "name": "stdout",
     "output_type": "stream",
     "text": [
      "31\n",
      "Average= 4.428571428571429\n"
     ]
    }
   ],
   "source": [
    "mynums=[1,2,5,6,7,8,2]\n",
    "summ=0\n",
    "for num in mynums:\n",
    "    summ=summ+num\n",
    "print(summ)\n",
    "print(\"Average=\",summ/len(mynums))"
   ]
  },
  {
   "cell_type": "markdown",
   "metadata": {},
   "source": [
    "**Check whether a given number is prime or composite.**"
   ]
  },
  {
   "cell_type": "code",
   "execution_count": 34,
   "metadata": {},
   "outputs": [
    {
     "name": "stdout",
     "output_type": "stream",
     "text": [
      "Enter a number: 13\n",
      "It is a prime number.\n"
     ]
    }
   ],
   "source": [
    "num=int(input(\"Enter a number: \"))\n",
    "if num>1:\n",
    "    for i in range(2,num//2+1):\n",
    "        if num%i==0:\n",
    "            print(\"It is a composite number.\")\n",
    "            break\n",
    "    else:\n",
    "        print(\"It is a prime number.\")"
   ]
  },
  {
   "cell_type": "markdown",
   "metadata": {},
   "source": [
    "**Print prime numbers in an interval.**"
   ]
  },
  {
   "cell_type": "code",
   "execution_count": 39,
   "metadata": {},
   "outputs": [
    {
     "name": "stdout",
     "output_type": "stream",
     "text": [
      "Enter n1: 1\n",
      "Enter n2: 20\n",
      "2\n",
      "3\n",
      "5\n",
      "7\n",
      "11\n",
      "13\n",
      "17\n",
      "19\n"
     ]
    }
   ],
   "source": [
    "n1=int(input(\"Enter n1: \"))\n",
    "n2=int(input(\"Enter n2: \"))\n",
    "for num in range(n1, n2+1):\n",
    "    if num>1:\n",
    "        for i in range(2,num):\n",
    "            if num%i==0:\n",
    "                break\n",
    "        else:\n",
    "            print(num)"
   ]
  },
  {
   "cell_type": "markdown",
   "metadata": {},
   "source": [
    "# **Matrices**\n",
    "\n",
    "You can use nested lists to create a matrix."
   ]
  },
  {
   "cell_type": "markdown",
   "metadata": {},
   "source": [
    "**Sum of two matrices.**"
   ]
  },
  {
   "cell_type": "code",
   "execution_count": 44,
   "metadata": {},
   "outputs": [
    {
     "name": "stdout",
     "output_type": "stream",
     "text": [
      "Resultant matrix=\n",
      "[8, 10, 12]\n",
      "[3, 5, 7]\n",
      "[5, 14, 12]\n"
     ]
    }
   ],
   "source": [
    "m1=[[1,2,3],\n",
    "    [2,3,4],\n",
    "    [5,6,7]]\n",
    "\n",
    "m2=[[7,8,9],\n",
    "    [1,2,3],\n",
    "    [0,8,5]]\n",
    "\n",
    "res=[[0,0,0],\n",
    "     [0,0,0],\n",
    "     [0,0,0]]\n",
    "\n",
    "for i in range(len(m1)):\n",
    "    for j in range(len(m1[0])):\n",
    "        res[i][j]=m1[i][j]+m2[i][j]\n",
    "print(\"Resultant matrix=\")\n",
    "for r in res:\n",
    "    print(r)"
   ]
  },
  {
   "cell_type": "markdown",
   "metadata": {},
   "source": [
    "**Difference of two matrices.**"
   ]
  },
  {
   "cell_type": "code",
   "execution_count": 45,
   "metadata": {},
   "outputs": [
    {
     "name": "stdout",
     "output_type": "stream",
     "text": [
      "Resultant matrix (Difference)=\n",
      "[-6, -6, -6]\n",
      "[1, 1, 1]\n",
      "[5, -2, 2]\n"
     ]
    }
   ],
   "source": [
    "m1=[[1,2,3],\n",
    "    [2,3,4],\n",
    "    [5,6,7]]\n",
    "\n",
    "m2=[[7,8,9],\n",
    "    [1,2,3],\n",
    "    [0,8,5]]\n",
    "\n",
    "res=[[0,0,0],\n",
    "     [0,0,0],\n",
    "     [0,0,0]]\n",
    "\n",
    "for i in range(len(m1)):\n",
    "    for j in range(len(m1[0])):\n",
    "        res[i][j]=m1[i][j]-m2[i][j]\n",
    "print(\"Resultant matrix=\")\n",
    "for r in res:\n",
    "    print(r)"
   ]
  },
  {
   "cell_type": "markdown",
   "metadata": {},
   "source": [
    "**Multiplying two matrices.**"
   ]
  },
  {
   "cell_type": "code",
   "execution_count": 51,
   "metadata": {},
   "outputs": [
    {
     "name": "stdout",
     "output_type": "stream",
     "text": [
      "Resultant matrix=\n",
      "[10, 37, 31]\n",
      "[18, 55, 48]\n",
      "[42, 109, 99]\n"
     ]
    }
   ],
   "source": [
    "m1=[[1,2,3],\n",
    "    [2,3,4],\n",
    "    [5,6,7]]\n",
    "\n",
    "m2=[[7,8,9],\n",
    "    [1,2,3],\n",
    "    [0,8,5]]\n",
    "\n",
    "res=[[1,1,1],\n",
    "     [1,1,1],\n",
    "     [1,1,1]]\n",
    "\n",
    "for i in range(len(m1)):\n",
    "    for j in range(len(m1[0])):\n",
    "        for k in range(len(m2)):\n",
    "            res[i][j]+=m1[i][k]*m2[k][j]\n",
    "print(\"Resultant matrix=\")\n",
    "for r in res:\n",
    "    print(r)"
   ]
  }
 ],
 "metadata": {
  "kernelspec": {
   "display_name": "Python 3",
   "language": "python",
   "name": "python3"
  },
  "language_info": {
   "codemirror_mode": {
    "name": "ipython",
    "version": 3
   },
   "file_extension": ".py",
   "mimetype": "text/x-python",
   "name": "python",
   "nbconvert_exporter": "python",
   "pygments_lexer": "ipython3",
   "version": "3.7.6"
  }
 },
 "nbformat": 4,
 "nbformat_minor": 4
}

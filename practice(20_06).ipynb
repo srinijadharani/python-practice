{
  "nbformat": 4,
  "nbformat_minor": 0,
  "metadata": {
    "colab": {
      "name": "practice(20_06).ipynb",
      "provenance": [],
      "authorship_tag": "ABX9TyM7qlEiydPEaJNVZN7FZvDa",
      "include_colab_link": true
    },
    "kernelspec": {
      "name": "python3",
      "display_name": "Python 3"
    }
  },
  "cells": [
    {
      "cell_type": "markdown",
      "metadata": {
        "id": "view-in-github",
        "colab_type": "text"
      },
      "source": [
        "<a href=\"https://colab.research.google.com/github/srinijadharani/python-practice/blob/master/practice(20_06).ipynb\" target=\"_parent\"><img src=\"https://colab.research.google.com/assets/colab-badge.svg\" alt=\"Open In Colab\"/></a>"
      ]
    },
    {
      "cell_type": "markdown",
      "metadata": {
        "id": "B36gQ9-k7-hk",
        "colab_type": "text"
      },
      "source": [
        "#**Module 2**"
      ]
    },
    {
      "cell_type": "markdown",
      "metadata": {
        "id": "x_Li9ajp8EVz",
        "colab_type": "text"
      },
      "source": [
        "**Comparision Operators: Compare two operands**"
      ]
    },
    {
      "cell_type": "code",
      "metadata": {
        "id": "c0Q3sXPJ44Tw",
        "colab_type": "code",
        "colab": {
          "base_uri": "https://localhost:8080/",
          "height": 35
        },
        "outputId": "420ae354-fbfa-491f-b353-92712ce9a4b5"
      },
      "source": [
        "x=3\n",
        "y=9\n",
        "x<y\n",
        "x>y"
      ],
      "execution_count": 2,
      "outputs": [
        {
          "output_type": "execute_result",
          "data": {
            "text/plain": [
              "False"
            ]
          },
          "metadata": {
            "tags": []
          },
          "execution_count": 2
        }
      ]
    },
    {
      "cell_type": "code",
      "metadata": {
        "id": "XhSIbYnf8aFS",
        "colab_type": "code",
        "colab": {
          "base_uri": "https://localhost:8080/",
          "height": 35
        },
        "outputId": "8462998c-47cb-46e5-c7c4-a114f23c61fd"
      },
      "source": [
        "7==7"
      ],
      "execution_count": 3,
      "outputs": [
        {
          "output_type": "execute_result",
          "data": {
            "text/plain": [
              "True"
            ]
          },
          "metadata": {
            "tags": []
          },
          "execution_count": 3
        }
      ]
    },
    {
      "cell_type": "markdown",
      "metadata": {
        "id": "R1JZK88F8pmM",
        "colab_type": "text"
      },
      "source": [
        "**Logical Operators: Compare two boolean expressions (and, or, not)**"
      ]
    },
    {
      "cell_type": "markdown",
      "metadata": {
        "id": "-pRou1P09N3M",
        "colab_type": "text"
      },
      "source": [
        "'and' operator is evaluated true only when both the expressions are true. If one expession is false, the result is false."
      ]
    },
    {
      "cell_type": "code",
      "metadata": {
        "id": "K6qTTISv8oFs",
        "colab_type": "code",
        "colab": {
          "base_uri": "https://localhost:8080/",
          "height": 35
        },
        "outputId": "01427e80-3ad7-4eb7-97e7-28058a259f1e"
      },
      "source": [
        "x=10\n",
        "y=8\n",
        "z=3\n",
        "x>y and y<z"
      ],
      "execution_count": 4,
      "outputs": [
        {
          "output_type": "execute_result",
          "data": {
            "text/plain": [
              "False"
            ]
          },
          "metadata": {
            "tags": []
          },
          "execution_count": 4
        }
      ]
    },
    {
      "cell_type": "code",
      "metadata": {
        "id": "MryTcB2u9MbY",
        "colab_type": "code",
        "colab": {
          "base_uri": "https://localhost:8080/",
          "height": 35
        },
        "outputId": "2473947e-0610-46a4-fa47-7de6d4bbadc0"
      },
      "source": [
        "x=10\n",
        "y=8\n",
        "z=3\n",
        "x>y and y>z"
      ],
      "execution_count": 6,
      "outputs": [
        {
          "output_type": "execute_result",
          "data": {
            "text/plain": [
              "True"
            ]
          },
          "metadata": {
            "tags": []
          },
          "execution_count": 6
        }
      ]
    },
    {
      "cell_type": "markdown",
      "metadata": {
        "id": "3UG8JuAz9psl",
        "colab_type": "text"
      },
      "source": [
        "'or' if any one of the expressions is true, the result is true."
      ]
    },
    {
      "cell_type": "code",
      "metadata": {
        "id": "lBSAIgB79huC",
        "colab_type": "code",
        "colab": {
          "base_uri": "https://localhost:8080/",
          "height": 35
        },
        "outputId": "49d89bac-40e0-42cb-d1d4-c5d3a9d7085a"
      },
      "source": [
        "x=10\n",
        "y=8\n",
        "z=3\n",
        "x>y or y>z"
      ],
      "execution_count": 7,
      "outputs": [
        {
          "output_type": "execute_result",
          "data": {
            "text/plain": [
              "True"
            ]
          },
          "metadata": {
            "tags": []
          },
          "execution_count": 7
        }
      ]
    },
    {
      "cell_type": "markdown",
      "metadata": {
        "id": "P7Kbm8ie9zOY",
        "colab_type": "text"
      },
      "source": [
        "'not' returns the opposite (negates) of the actual result. "
      ]
    },
    {
      "cell_type": "code",
      "metadata": {
        "id": "XA26u5An9vzP",
        "colab_type": "code",
        "colab": {
          "base_uri": "https://localhost:8080/",
          "height": 35
        },
        "outputId": "752ef5d9-ff48-4b69-8a8e-2ab3a7322b2e"
      },
      "source": [
        "x=10\n",
        "y=8\n",
        "z=3\n",
        "x>y "
      ],
      "execution_count": 8,
      "outputs": [
        {
          "output_type": "execute_result",
          "data": {
            "text/plain": [
              "True"
            ]
          },
          "metadata": {
            "tags": []
          },
          "execution_count": 8
        }
      ]
    },
    {
      "cell_type": "code",
      "metadata": {
        "id": "YeIh02xi-L41",
        "colab_type": "code",
        "colab": {
          "base_uri": "https://localhost:8080/",
          "height": 35
        },
        "outputId": "f32480c0-dc84-4e68-96f8-22ca55d9796f"
      },
      "source": [
        "x=10\n",
        "y=8\n",
        "z=3\n",
        "not x>y"
      ],
      "execution_count": 9,
      "outputs": [
        {
          "output_type": "execute_result",
          "data": {
            "text/plain": [
              "False"
            ]
          },
          "metadata": {
            "tags": []
          },
          "execution_count": 9
        }
      ]
    },
    {
      "cell_type": "markdown",
      "metadata": {
        "id": "8S9lKEsQ-jQt",
        "colab_type": "text"
      },
      "source": [
        "**Conditional Execution: check the condition and change the behaviour of the program by taking decisions. (if, elif, else, switch)**"
      ]
    },
    {
      "cell_type": "markdown",
      "metadata": {
        "id": "5w_pGOph_XKo",
        "colab_type": "text"
      },
      "source": [
        "**if statement**"
      ]
    },
    {
      "cell_type": "code",
      "metadata": {
        "id": "EYwT5_oO-PqO",
        "colab_type": "code",
        "colab": {
          "base_uri": "https://localhost:8080/",
          "height": 35
        },
        "outputId": "1e5f2534-03e8-4e57-920b-eaf40e976176"
      },
      "source": [
        "x=20\n",
        "y=90\n",
        "if x<y:\n",
        "  print(\"x is less than y\")"
      ],
      "execution_count": 10,
      "outputs": [
        {
          "output_type": "stream",
          "text": [
            "x is less than y\n"
          ],
          "name": "stdout"
        }
      ]
    },
    {
      "cell_type": "markdown",
      "metadata": {
        "id": "W8HDn38f_7zL",
        "colab_type": "text"
      },
      "source": [
        "**if-else statement**"
      ]
    },
    {
      "cell_type": "code",
      "metadata": {
        "id": "bVeJy5zy_tTw",
        "colab_type": "code",
        "colab": {
          "base_uri": "https://localhost:8080/",
          "height": 35
        },
        "outputId": "14832094-7363-48f2-baba-ff037360fdf5"
      },
      "source": [
        "x=20\n",
        "y=10\n",
        "if x<y:\n",
        "  print(\"x is less than y\")\n",
        "else:\n",
        "  print(\"y is less than x\")  "
      ],
      "execution_count": 11,
      "outputs": [
        {
          "output_type": "stream",
          "text": [
            "y is less than x\n"
          ],
          "name": "stdout"
        }
      ]
    },
    {
      "cell_type": "code",
      "metadata": {
        "id": "TA3q8Hl9AoLm",
        "colab_type": "code",
        "colab": {
          "base_uri": "https://localhost:8080/",
          "height": 52
        },
        "outputId": "29208e8f-18c1-4069-9175-e057754d872f"
      },
      "source": [
        "age= int(input(\"Enter you age: \"))\n",
        "if age>=18:\n",
        "  print(\"eligible for voting\")\n",
        "else:\n",
        "  print(\"not eligible for voting\")  "
      ],
      "execution_count": 16,
      "outputs": [
        {
          "output_type": "stream",
          "text": [
            "Enter you age: 23\n",
            "eligible for voting\n"
          ],
          "name": "stdout"
        }
      ]
    },
    {
      "cell_type": "markdown",
      "metadata": {
        "id": "pFTnZ-R8AApS",
        "colab_type": "text"
      },
      "source": [
        "**using elif**"
      ]
    },
    {
      "cell_type": "code",
      "metadata": {
        "id": "agVG0hoD_3H1",
        "colab_type": "code",
        "colab": {
          "base_uri": "https://localhost:8080/",
          "height": 35
        },
        "outputId": "02aa3711-4a07-42fa-a6ed-a32940cf9cda"
      },
      "source": [
        "x=9\n",
        "if x>0:\n",
        "  print(\"positive number\")\n",
        "elif x<0:\n",
        "  print(\"negative number\")\n",
        "else:\n",
        "  print(\"zero\")    "
      ],
      "execution_count": 12,
      "outputs": [
        {
          "output_type": "stream",
          "text": [
            "positive number\n"
          ],
          "name": "stdout"
        }
      ]
    },
    {
      "cell_type": "code",
      "metadata": {
        "id": "edh6Bm_5AjIr",
        "colab_type": "code",
        "colab": {
          "base_uri": "https://localhost:8080/",
          "height": 35
        },
        "outputId": "6b377f30-dbfe-4f0e-ab65-d776c48a4393"
      },
      "source": [
        "x=0\n",
        "if x>0:\n",
        "  print(\"positive number\")\n",
        "elif x<0:\n",
        "  print(\"negative number\")\n",
        "else:\n",
        "  print(\"zero\")    "
      ],
      "execution_count": 13,
      "outputs": [
        {
          "output_type": "stream",
          "text": [
            "zero\n"
          ],
          "name": "stdout"
        }
      ]
    },
    {
      "cell_type": "code",
      "metadata": {
        "id": "wOocEnqPAlpL",
        "colab_type": "code",
        "colab": {
          "base_uri": "https://localhost:8080/",
          "height": 35
        },
        "outputId": "dc571b3c-9c69-4d33-d588-52f3e681ff00"
      },
      "source": [
        "x=-7\n",
        "if x>0:\n",
        "  print(\"positive number\")\n",
        "elif x<0:\n",
        "  print(\"negative number\")\n",
        "else:\n",
        "  print(\"zero\")    "
      ],
      "execution_count": 14,
      "outputs": [
        {
          "output_type": "stream",
          "text": [
            "negative number\n"
          ],
          "name": "stdout"
        }
      ]
    },
    {
      "cell_type": "markdown",
      "metadata": {
        "id": "-Ez_LZfKGMxU",
        "colab_type": "text"
      },
      "source": [
        "program to find the day when a number is entered"
      ]
    },
    {
      "cell_type": "code",
      "metadata": {
        "id": "o1-QB5-ECQ1K",
        "colab_type": "code",
        "colab": {
          "base_uri": "https://localhost:8080/",
          "height": 52
        },
        "outputId": "1eecabd6-78c5-40d7-9408-b4bb9f10ef12"
      },
      "source": [
        "day= int(input(\"enter a day in numbers: \"))\n",
        "if day==1:\n",
        "  print(\"Sunday\")\n",
        "elif day==2:\n",
        "   print(\"Monday\") \n",
        "elif day==3:\n",
        "   print(\"Tuesday\") \n",
        "elif day==4:\n",
        "   print(\"Wednesday\")\n",
        "elif day==5:\n",
        "   print(\"Thursday\") \n",
        "elif day==6:\n",
        "   print(\"Friday\") \n",
        "elif day==7:\n",
        "  print(\"Saturday\")      \n",
        "else:\n",
        "  print(\"not valid\")            "
      ],
      "execution_count": 18,
      "outputs": [
        {
          "output_type": "stream",
          "text": [
            "enter a day in numbers: 8\n",
            "not valid\n"
          ],
          "name": "stdout"
        }
      ]
    },
    {
      "cell_type": "code",
      "metadata": {
        "id": "_SQs6M87F9kx",
        "colab_type": "code",
        "colab": {
          "base_uri": "https://localhost:8080/",
          "height": 35
        },
        "outputId": "4e41bffe-64b6-47ab-d52f-cdced2bd34db"
      },
      "source": [
        "x=8\n",
        "y=10\n",
        "\n",
        "if x==y:\n",
        "  print(\"x and y are equal\")\n",
        "else:\n",
        "  if x>y:\n",
        "    print(\"x is greater than y\")\n",
        "  else:\n",
        "    print(\"y is greater than x\")    "
      ],
      "execution_count": 19,
      "outputs": [
        {
          "output_type": "stream",
          "text": [
            "y is greater than x\n"
          ],
          "name": "stdout"
        }
      ]
    },
    {
      "cell_type": "code",
      "metadata": {
        "id": "A2ABudyiJd_y",
        "colab_type": "code",
        "colab": {
          "base_uri": "https://localhost:8080/",
          "height": 52
        },
        "outputId": "5278b884-e917-45b0-8e0a-cb6283d0f601"
      },
      "source": [
        "x= int(input(\"enter a number: \"))\n",
        "if x==0:\n",
        "  print(\"x is zero\")\n",
        "else:\n",
        "  if x%2==0:\n",
        "    print(\"even\")\n",
        "  else:\n",
        "    print(\"odd\")    "
      ],
      "execution_count": 20,
      "outputs": [
        {
          "output_type": "stream",
          "text": [
            "enter a number: 3\n",
            "odd\n"
          ],
          "name": "stdout"
        }
      ]
    },
    {
      "cell_type": "code",
      "metadata": {
        "id": "vBScttyFNeJb",
        "colab_type": "code",
        "colab": {}
      },
      "source": [
        ""
      ],
      "execution_count": null,
      "outputs": []
    }
  ]
}
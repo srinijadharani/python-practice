{
 "cells": [
  {
   "cell_type": "markdown",
   "metadata": {},
   "source": [
    "**TUPLES**<br>\n",
    "A tuple is a collection of objects which ordered and `immutable`. The differences between tuples and lists are, the tuples cannot be changed unlike lists and tuples use parentheses, whereas lists use square brackets."
   ]
  },
  {
   "cell_type": "code",
   "execution_count": 1,
   "metadata": {},
   "outputs": [
    {
     "name": "stdout",
     "output_type": "stream",
     "text": [
      "(1, 2, 3, 4)\n",
      "<class 'tuple'>\n"
     ]
    }
   ],
   "source": [
    "t1=(1,2,3,4)\n",
    "print(t1)\n",
    "print(type(t1))"
   ]
  },
  {
   "cell_type": "code",
   "execution_count": 2,
   "metadata": {},
   "outputs": [
    {
     "name": "stdout",
     "output_type": "stream",
     "text": [
      "<class 'tuple'>\n"
     ]
    }
   ],
   "source": [
    "t2=1,2,3,4,5,6\n",
    "print(type(t2))"
   ]
  },
  {
   "cell_type": "code",
   "execution_count": 3,
   "metadata": {},
   "outputs": [
    {
     "data": {
      "text/plain": [
       "(1, 2, 3, 4)"
      ]
     },
     "execution_count": 3,
     "metadata": {},
     "output_type": "execute_result"
    }
   ],
   "source": [
    "t1"
   ]
  },
  {
   "cell_type": "code",
   "execution_count": 4,
   "metadata": {},
   "outputs": [
    {
     "name": "stdout",
     "output_type": "stream",
     "text": [
      "[1, 2, 3, 4]\n"
     ]
    }
   ],
   "source": [
    "print(list(t1))"
   ]
  },
  {
   "cell_type": "code",
   "execution_count": 5,
   "metadata": {},
   "outputs": [
    {
     "name": "stdout",
     "output_type": "stream",
     "text": [
      "{1, 2, 3, 4}\n"
     ]
    }
   ],
   "source": [
    "print(set(t1))"
   ]
  },
  {
   "cell_type": "code",
   "execution_count": 6,
   "metadata": {},
   "outputs": [
    {
     "name": "stdout",
     "output_type": "stream",
     "text": [
      "() <class 'tuple'>\n"
     ]
    }
   ],
   "source": [
    "t1=() #creating an empty tuple\n",
    "print(t1,type(t1))"
   ]
  },
  {
   "cell_type": "markdown",
   "metadata": {},
   "source": [
    "Tuples are `comma seperated values`. If we don't pass any comma into the parantheses, it will turn out to be an integer. If you want to create a single value tuple, pass in one value followed by a comma."
   ]
  },
  {
   "cell_type": "code",
   "execution_count": 7,
   "metadata": {},
   "outputs": [
    {
     "name": "stdout",
     "output_type": "stream",
     "text": [
      "1 <class 'int'>\n"
     ]
    }
   ],
   "source": [
    "t1=(1)\n",
    "print(t1,type(t1))"
   ]
  },
  {
   "cell_type": "code",
   "execution_count": 8,
   "metadata": {},
   "outputs": [
    {
     "name": "stdout",
     "output_type": "stream",
     "text": [
      "(1,) <class 'tuple'>\n"
     ]
    }
   ],
   "source": [
    "t1=(1,)\n",
    "print(t1,type(t1))"
   ]
  },
  {
   "cell_type": "markdown",
   "metadata": {},
   "source": [
    "Tuples can accept repeated values like lists and unlike sets."
   ]
  },
  {
   "cell_type": "code",
   "execution_count": 9,
   "metadata": {},
   "outputs": [
    {
     "name": "stdout",
     "output_type": "stream",
     "text": [
      "(1, 4, 4, 2, 7, 2, 3, 9, 2, 7, 4) <class 'tuple'>\n"
     ]
    }
   ],
   "source": [
    "t1=(1,4,4,2,7,2,3,9,2,7,4)\n",
    "print(t1,type(t1))"
   ]
  },
  {
   "cell_type": "code",
   "execution_count": 10,
   "metadata": {},
   "outputs": [
    {
     "name": "stdout",
     "output_type": "stream",
     "text": [
      "{1, 2, 3, 4, 7, 9} <class 'set'>\n"
     ]
    }
   ],
   "source": [
    "s1={1,4,4,2,7,2,3,9,2,7,4}\n",
    "print(s1,type(s1))"
   ]
  },
  {
   "cell_type": "markdown",
   "metadata": {},
   "source": [
    "You can pass a squence of elements to the constructor tuple(). "
   ]
  },
  {
   "cell_type": "code",
   "execution_count": 11,
   "metadata": {},
   "outputs": [
    {
     "name": "stdout",
     "output_type": "stream",
     "text": [
      "('N', 'I', 'M', 'B', 'U', 'S')\n"
     ]
    }
   ],
   "source": [
    "t1=tuple((\"NIMBUS\"))\n",
    "print(t1)"
   ]
  },
  {
   "cell_type": "code",
   "execution_count": 12,
   "metadata": {},
   "outputs": [
    {
     "data": {
      "text/plain": [
       "('N', 'I', 'M', 'B', 'U', 'S')"
      ]
     },
     "execution_count": 12,
     "metadata": {},
     "output_type": "execute_result"
    }
   ],
   "source": [
    "t1"
   ]
  },
  {
   "cell_type": "code",
   "execution_count": 13,
   "metadata": {},
   "outputs": [
    {
     "name": "stdout",
     "output_type": "stream",
     "text": [
      "t1[0]= N\n",
      "t1[3]= B\n"
     ]
    },
    {
     "ename": "IndexError",
     "evalue": "tuple index out of range",
     "output_type": "error",
     "traceback": [
      "\u001b[1;31m---------------------------------------------------------------------------\u001b[0m",
      "\u001b[1;31mIndexError\u001b[0m                                Traceback (most recent call last)",
      "\u001b[1;32m<ipython-input-13-78ef16fb3d1a>\u001b[0m in \u001b[0;36m<module>\u001b[1;34m\u001b[0m\n\u001b[0;32m      1\u001b[0m \u001b[0mprint\u001b[0m\u001b[1;33m(\u001b[0m\u001b[1;34m\"t1[0]=\"\u001b[0m\u001b[1;33m,\u001b[0m\u001b[0mt1\u001b[0m\u001b[1;33m[\u001b[0m\u001b[1;36m0\u001b[0m\u001b[1;33m]\u001b[0m\u001b[1;33m)\u001b[0m\u001b[1;33m\u001b[0m\u001b[1;33m\u001b[0m\u001b[0m\n\u001b[0;32m      2\u001b[0m \u001b[0mprint\u001b[0m\u001b[1;33m(\u001b[0m\u001b[1;34m\"t1[3]=\"\u001b[0m\u001b[1;33m,\u001b[0m\u001b[0mt1\u001b[0m\u001b[1;33m[\u001b[0m\u001b[1;36m3\u001b[0m\u001b[1;33m]\u001b[0m\u001b[1;33m)\u001b[0m\u001b[1;33m\u001b[0m\u001b[1;33m\u001b[0m\u001b[0m\n\u001b[1;32m----> 3\u001b[1;33m \u001b[0mprint\u001b[0m\u001b[1;33m(\u001b[0m\u001b[1;34m\"t1[8]=\"\u001b[0m\u001b[1;33m,\u001b[0m\u001b[0mt1\u001b[0m\u001b[1;33m[\u001b[0m\u001b[1;36m8\u001b[0m\u001b[1;33m]\u001b[0m\u001b[1;33m)\u001b[0m \u001b[1;31m#tuple index out of range\u001b[0m\u001b[1;33m\u001b[0m\u001b[1;33m\u001b[0m\u001b[0m\n\u001b[0m",
      "\u001b[1;31mIndexError\u001b[0m: tuple index out of range"
     ]
    }
   ],
   "source": [
    "print(\"t1[0]=\",t1[0])\n",
    "print(\"t1[3]=\",t1[3])\n",
    "print(\"t1[8]=\",t1[8]) #tuple index out of range"
   ]
  },
  {
   "cell_type": "code",
   "execution_count": 14,
   "metadata": {},
   "outputs": [
    {
     "name": "stdout",
     "output_type": "stream",
     "text": [
      "The tuple is: ('N', 'I', 'M', 'B', 'U', 'S')\n",
      "t1[0:3]: ('N', 'I', 'M')\n",
      "Reverse of the given tuple is: ('S', 'U', 'B', 'M', 'I', 'N')\n"
     ]
    }
   ],
   "source": [
    "print(\"The tuple is:\",t1)\n",
    "print(\"t1[0:3]:\",t1[0:3])\n",
    "print(\"Reverse of the given tuple is:\",t1[::-1])"
   ]
  },
  {
   "cell_type": "markdown",
   "metadata": {},
   "source": [
    "You cannot change the elements of a tuple. An error will be thrown if you try to do so. But we can add another tuple to the existing tuple using the concatenation operator."
   ]
  },
  {
   "cell_type": "code",
   "execution_count": 15,
   "metadata": {},
   "outputs": [
    {
     "name": "stdout",
     "output_type": "stream",
     "text": [
      "(1, 2, 3, 4, 5)\n",
      "(1, 2, 3, 4, 5, 'N', 'i', 'm', 'b', 'u', 's')\n"
     ]
    }
   ],
   "source": [
    "t1=(1,2,3,4,5)\n",
    "t2=tuple(\"Nimbus\")\n",
    "print(t1)\n",
    "t1=t1+t2\n",
    "print(t1)"
   ]
  },
  {
   "cell_type": "code",
   "execution_count": 16,
   "metadata": {},
   "outputs": [
    {
     "data": {
      "text/plain": [
       "True"
      ]
     },
     "execution_count": 16,
     "metadata": {},
     "output_type": "execute_result"
    }
   ],
   "source": [
    "t1=(1,2,3)\n",
    "t2=(78,54,1)\n",
    "t1<t2"
   ]
  },
  {
   "cell_type": "code",
   "execution_count": 17,
   "metadata": {},
   "outputs": [
    {
     "data": {
      "text/plain": [
       "True"
      ]
     },
     "execution_count": 17,
     "metadata": {},
     "output_type": "execute_result"
    }
   ],
   "source": [
    "t1=tuple(\"GITAM\")\n",
    "t2=tuple(\"gitam\")\n",
    "t1<t2"
   ]
  },
  {
   "cell_type": "code",
   "execution_count": 18,
   "metadata": {},
   "outputs": [
    {
     "data": {
      "text/plain": [
       "False"
      ]
     },
     "execution_count": 18,
     "metadata": {},
     "output_type": "execute_result"
    }
   ],
   "source": [
    "t1=tuple(\"GITAM\")\n",
    "t2=tuple(\"gitam\")\n",
    "t1>t2"
   ]
  },
  {
   "cell_type": "code",
   "execution_count": 19,
   "metadata": {},
   "outputs": [
    {
     "name": "stdout",
     "output_type": "stream",
     "text": [
      "1 4.5 Nimbus <class 'int'> <class 'float'> <class 'str'>\n"
     ]
    }
   ],
   "source": [
    "x,y,z=1,4.5,\"Nimbus\"\n",
    "print(x,y,z,type(x),type(y),type(z))"
   ]
  },
  {
   "cell_type": "markdown",
   "metadata": {},
   "source": [
    "**Program to swap two variables using pure Python.**"
   ]
  },
  {
   "cell_type": "code",
   "execution_count": 20,
   "metadata": {},
   "outputs": [
    {
     "name": "stdout",
     "output_type": "stream",
     "text": [
      "Before swapping x= 2 y= 4\n",
      "After swapping, x= 4\n",
      "After swappping, y= 2\n"
     ]
    }
   ],
   "source": [
    "x=2\n",
    "y=4\n",
    "print(\"Before swapping x=\",x,\"y=\",y)\n",
    "x,y=y,x\n",
    "print(\"After swapping, x=\",x)\n",
    "print(\"After swappping, y=\",y)"
   ]
  },
  {
   "cell_type": "markdown",
   "metadata": {},
   "source": [
    "**Program to seperate username and domain name in an email address.**"
   ]
  },
  {
   "cell_type": "code",
   "execution_count": 21,
   "metadata": {},
   "outputs": [
    {
     "name": "stdout",
     "output_type": "stream",
     "text": [
      "Username= nimbus5\n",
      "Domain name= gmail.com\n"
     ]
    }
   ],
   "source": [
    "email=\"nimbus5@gmail.com\"\n",
    "username,domain=email.split(\"@\")\n",
    "print(\"Username=\",username)\n",
    "print(\"Domain name=\",domain)"
   ]
  },
  {
   "cell_type": "markdown",
   "metadata": {},
   "source": [
    "**Program to find an element in a given tuple or not.**"
   ]
  },
  {
   "cell_type": "code",
   "execution_count": 22,
   "metadata": {},
   "outputs": [
    {
     "name": "stdout",
     "output_type": "stream",
     "text": [
      "True\n"
     ]
    }
   ],
   "source": [
    "t1=(1,2,3,4,5,6)\n",
    "print(5 in t1)"
   ]
  },
  {
   "cell_type": "code",
   "execution_count": 23,
   "metadata": {},
   "outputs": [
    {
     "name": "stdout",
     "output_type": "stream",
     "text": [
      "False\n"
     ]
    }
   ],
   "source": [
    "print(9 in t1)"
   ]
  },
  {
   "cell_type": "code",
   "execution_count": 24,
   "metadata": {},
   "outputs": [
    {
     "name": "stdout",
     "output_type": "stream",
     "text": [
      "True\n"
     ]
    }
   ],
   "source": [
    "print(9 not in t1)"
   ]
  },
  {
   "cell_type": "code",
   "execution_count": 25,
   "metadata": {},
   "outputs": [
    {
     "name": "stdout",
     "output_type": "stream",
     "text": [
      "Length= 11\n",
      "Maximum= 9\n",
      "Minimum= 1\n"
     ]
    }
   ],
   "source": [
    "t1=(1,4,4,2,7,2,3,9,2,7,4)\n",
    "print(\"Length=\",len(t1))\n",
    "print(\"Maximum=\",max(t1))\n",
    "print(\"Minimum=\",min(t1))"
   ]
  },
  {
   "cell_type": "code",
   "execution_count": 26,
   "metadata": {},
   "outputs": [
    {
     "name": "stdout",
     "output_type": "stream",
     "text": [
      "Maximum= Hola\n",
      "Minimum= Bonjour\n",
      "Length= 6\n"
     ]
    }
   ],
   "source": [
    "t1=(\"Hello\",\"Hi\",\"Hey there!\",\"Bonjour\",\"Ciao\",\"Hola\")\n",
    "print(\"Maximum=\",max(t1))\n",
    "print(\"Minimum=\",min(t1))\n",
    "print(\"Length=\",len(t1))"
   ]
  },
  {
   "cell_type": "markdown",
   "metadata": {},
   "source": [
    "We cannot perform min() and max() when the tuple contains different data types. We should only have homogeneous data types."
   ]
  },
  {
   "cell_type": "code",
   "execution_count": 27,
   "metadata": {},
   "outputs": [
    {
     "name": "stdout",
     "output_type": "stream",
     "text": [
      "(1, 2, 3, 4, 5)\n"
     ]
    }
   ],
   "source": [
    "t1=(1,2,3,4,5)\n",
    "print(t1)"
   ]
  },
  {
   "cell_type": "code",
   "execution_count": 28,
   "metadata": {},
   "outputs": [],
   "source": [
    "del t1 #deletd the entire tuple"
   ]
  },
  {
   "cell_type": "code",
   "execution_count": 29,
   "metadata": {},
   "outputs": [
    {
     "name": "stdout",
     "output_type": "stream",
     "text": [
      "1 has repeated 1 times\n",
      "4 has repeated 3 times\n",
      "7 has repeated 2 times\n",
      "Index of 2: 3\n"
     ]
    }
   ],
   "source": [
    "t1=(1,4,4,2,7,2,3,9,2,7,4)\n",
    "print(\"1 has repeated\",t1.count(1),\"times\")\n",
    "print(\"4 has repeated\",t1.count(4),\"times\")\n",
    "print(\"7 has repeated\",t1.count(7),\"times\")\n",
    "print(\"Index of 2:\",t1.index(2))"
   ]
  },
  {
   "cell_type": "code",
   "execution_count": 30,
   "metadata": {},
   "outputs": [
    {
     "name": "stdout",
     "output_type": "stream",
     "text": [
      "Index 0  Hello\n",
      "Index 1  Hi\n",
      "Index 2  Hey there!\n",
      "Index 3  Bonjour\n",
      "Index 4  Ciao\n",
      "Index 5  Hola\n"
     ]
    }
   ],
   "source": [
    "t1=(\"Hello\",\"Hi\",\"Hey there!\",\"Bonjour\",\"Ciao\",\"Hola\")\n",
    "count=0\n",
    "for element in t1:\n",
    "    print(\"Index\",count,\"\",element)\n",
    "    count+=1"
   ]
  },
  {
   "cell_type": "code",
   "execution_count": 31,
   "metadata": {},
   "outputs": [
    {
     "name": "stdout",
     "output_type": "stream",
     "text": [
      "1\n",
      "2.3\n",
      "Nimbus\n",
      "5\n"
     ]
    }
   ],
   "source": [
    "t1=(1,2.3,(\"Nimbus\",5))\n",
    "print(t1[0])\n",
    "print(t1[1])\n",
    "print(t1[2][0])\n",
    "print(t1[2][1])"
   ]
  },
  {
   "cell_type": "code",
   "execution_count": 32,
   "metadata": {},
   "outputs": [
    {
     "name": "stdout",
     "output_type": "stream",
     "text": [
      "('N', 'I', 9, 'M', 'B', 'U', 'S')\n",
      "('N', 'I', 'M', 'B', 'U', 'S')\n"
     ]
    }
   ],
   "source": [
    "t1=(\"N\",\"I\",9,\"M\",\"B\",\"U\",\"S\")\n",
    "print(t1)\n",
    "print(t1[0:2]+t1[3:])"
   ]
  },
  {
   "cell_type": "code",
   "execution_count": 33,
   "metadata": {},
   "outputs": [
    {
     "name": "stdout",
     "output_type": "stream",
     "text": [
      "['N', 'I', 9, 'M', 'B', 'U', 'S']\n",
      "('N', 'I', 'M', 'B', 'U', 'S')\n"
     ]
    }
   ],
   "source": [
    "list1=list(t1)\n",
    "print(list1)\n",
    "list1.remove(9)\n",
    "print(tuple(list1))"
   ]
  }
 ],
 "metadata": {
  "kernelspec": {
   "display_name": "Python 3",
   "language": "python",
   "name": "python3"
  },
  "language_info": {
   "codemirror_mode": {
    "name": "ipython",
    "version": 3
   },
   "file_extension": ".py",
   "mimetype": "text/x-python",
   "name": "python",
   "nbconvert_exporter": "python",
   "pygments_lexer": "ipython3",
   "version": "3.7.6"
  }
 },
 "nbformat": 4,
 "nbformat_minor": 4
}

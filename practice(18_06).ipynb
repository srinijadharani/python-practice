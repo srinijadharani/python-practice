{
  "nbformat": 4,
  "nbformat_minor": 0,
  "metadata": {
    "colab": {
      "name": "one_18_06_examples.ipynb",
      "provenance": [],
      "authorship_tag": "ABX9TyMhvoNrhj5Qfye+phTfbmFA",
      "include_colab_link": true
    },
    "kernelspec": {
      "name": "python3",
      "display_name": "Python 3"
    }
  },
  "cells": [
    {
      "cell_type": "markdown",
      "metadata": {
        "id": "view-in-github",
        "colab_type": "text"
      },
      "source": [
        "<a href=\"https://colab.research.google.com/github/srinijadharani/python-workshop-practice/blob/master/one_18_06_examples.ipynb\" target=\"_parent\"><img src=\"https://colab.research.google.com/assets/colab-badge.svg\" alt=\"Open In Colab\"/></a>"
      ]
    },
    {
      "cell_type": "code",
      "metadata": {
        "id": "pgg8yseHowHT",
        "colab_type": "code",
        "colab": {
          "base_uri": "https://localhost:8080/",
          "height": 35
        },
        "outputId": "4b4024aa-b3a0-45c7-b723-4d0ce6966b14"
      },
      "source": [
        "a=20\n",
        "b=40\n",
        "print(a+b, a-b, a*b, a/b, a%b)"
      ],
      "execution_count": null,
      "outputs": [
        {
          "output_type": "stream",
          "text": [
            "60 -20 800 0.5 20\n"
          ],
          "name": "stdout"
        }
      ]
    },
    {
      "cell_type": "code",
      "metadata": {
        "id": "WiTH0R7CsDAM",
        "colab_type": "code",
        "colab": {
          "base_uri": "https://localhost:8080/",
          "height": 52
        },
        "outputId": "625bc9c5-4596-437c-f11b-71a146ffa64a"
      },
      "source": [
        "age = int(input(\"Enter your age \"))\n",
        "print(\"My age is \",age)"
      ],
      "execution_count": null,
      "outputs": [
        {
          "output_type": "stream",
          "text": [
            "Enter your age 18\n",
            "My age is  18\n"
          ],
          "name": "stdout"
        }
      ]
    },
    {
      "cell_type": "markdown",
      "metadata": {
        "id": "e2m7DcItxyC7",
        "colab_type": "text"
      },
      "source": [
        "Write a python program to take input from the user and perform the subtraction operation."
      ]
    },
    {
      "cell_type": "code",
      "metadata": {
        "id": "qw8-AMSdw_We",
        "colab_type": "code",
        "colab": {
          "base_uri": "https://localhost:8080/",
          "height": 69
        },
        "outputId": "d2f5acd9-c4e8-4059-c93f-a6d18d606dd3"
      },
      "source": [
        "num1 = int(input(\"enter a number1:\" ))\n",
        "num2 = int(input(\"enter a number2:\" ))\n",
        "result= num1-num2\n",
        "print(\"The result is: \",result)"
      ],
      "execution_count": null,
      "outputs": [
        {
          "output_type": "stream",
          "text": [
            "enter a number1:12\n",
            "enter a number2:34\n",
            "The result is:  -22\n"
          ],
          "name": "stdout"
        }
      ]
    },
    {
      "cell_type": "markdown",
      "metadata": {
        "id": "_ApJ_s5GyOsM",
        "colab_type": "text"
      },
      "source": [
        "Write a python program to read a floating point number from a user and display their product."
      ]
    },
    {
      "cell_type": "code",
      "metadata": {
        "id": "cQAnZURGyWC3",
        "colab_type": "code",
        "colab": {
          "base_uri": "https://localhost:8080/",
          "height": 69
        },
        "outputId": "827e1e10-0b0c-41fa-bdd5-035f204fb00a"
      },
      "source": [
        "num1 = float(input(\"enter a number1:\" ))\n",
        "num2 = float(input(\"enter a number2:\" ))\n",
        "result= num1*num2\n",
        "print(\"The result is: \",result)"
      ],
      "execution_count": null,
      "outputs": [
        {
          "output_type": "stream",
          "text": [
            "enter a number1:13.7\n",
            "enter a number2:2.4\n",
            "The result is:  32.879999999999995\n"
          ],
          "name": "stdout"
        }
      ]
    },
    {
      "cell_type": "markdown",
      "metadata": {
        "id": "wwwgEegRzUri",
        "colab_type": "text"
      },
      "source": [
        "Write a python program to take input from user, their name and age and display.\n",
        "\n",
        "\n"
      ]
    },
    {
      "cell_type": "code",
      "metadata": {
        "id": "FOG6oSYizhas",
        "colab_type": "code",
        "colab": {
          "base_uri": "https://localhost:8080/",
          "height": 69
        },
        "outputId": "9c26621f-f5a1-4028-ae22-37e190e86861"
      },
      "source": [
        "age= int(input(\"Please enter your age: \"))\n",
        "name= input(\"Please enter your name: \")\n",
        "print(\"Hello, \",name, \"Your age is \",age)"
      ],
      "execution_count": null,
      "outputs": [
        {
          "output_type": "stream",
          "text": [
            "Please enter your age: 18\n",
            "Please enter your name: Srinija\n",
            "Hello,  Srinija Your age is  18\n"
          ],
          "name": "stdout"
        }
      ]
    },
    {
      "cell_type": "markdown",
      "metadata": {
        "id": "H8DsP81a1BQv",
        "colab_type": "text"
      },
      "source": [
        "Assignment Operator (=)"
      ]
    },
    {
      "cell_type": "code",
      "metadata": {
        "id": "FuMCGPD_z5gf",
        "colab_type": "code",
        "colab": {
          "base_uri": "https://localhost:8080/",
          "height": 35
        },
        "outputId": "2c0c075a-99d0-4c04-8596-b97f2aa802ed"
      },
      "source": [
        "num= 12\n",
        "print(num)"
      ],
      "execution_count": null,
      "outputs": [
        {
          "output_type": "stream",
          "text": [
            "12\n"
          ],
          "name": "stdout"
        }
      ]
    },
    {
      "cell_type": "markdown",
      "metadata": {
        "id": "nKfp5Z1C14hX",
        "colab_type": "text"
      },
      "source": [
        "We can assign values to multiple variables using a single assignment operator in a single line of code."
      ]
    },
    {
      "cell_type": "code",
      "metadata": {
        "id": "swJwIhmb1pej",
        "colab_type": "code",
        "colab": {
          "base_uri": "https://localhost:8080/",
          "height": 35
        },
        "outputId": "d97a9d33-8de5-4224-ff56-a632cc8c8126"
      },
      "source": [
        "a, b=1,4\n",
        "print(a,b)"
      ],
      "execution_count": null,
      "outputs": [
        {
          "output_type": "stream",
          "text": [
            "1 4\n"
          ],
          "name": "stdout"
        }
      ]
    },
    {
      "cell_type": "code",
      "metadata": {
        "id": "oJnRfcUx1zD6",
        "colab_type": "code",
        "colab": {
          "base_uri": "https://localhost:8080/",
          "height": 35
        },
        "outputId": "645cf6a6-943d-4ac5-925f-1bb06460e956"
      },
      "source": [
        "age, name, fav_num= 18, \"Srinija\", 6.2\n",
        "print(\"Hello, your name is \",name, \". Your age is \", age, \". And your lucky number is \", fav_num, \".\")"
      ],
      "execution_count": null,
      "outputs": [
        {
          "output_type": "stream",
          "text": [
            "Hello, your name is  Srinija . Your age is  18 . And your lucky number is  6.2 .\n"
          ],
          "name": "stdout"
        }
      ]
    },
    {
      "cell_type": "code",
      "metadata": {
        "id": "FcfA7CgP2poL",
        "colab_type": "code",
        "colab": {
          "base_uri": "https://localhost:8080/",
          "height": 35
        },
        "outputId": "0f5d20da-b31d-436e-c2e2-48672f868798"
      },
      "source": [
        "type(age)"
      ],
      "execution_count": null,
      "outputs": [
        {
          "output_type": "execute_result",
          "data": {
            "text/plain": [
              "int"
            ]
          },
          "metadata": {
            "tags": []
          },
          "execution_count": 23
        }
      ]
    },
    {
      "cell_type": "code",
      "metadata": {
        "id": "xTYjJ4r720a1",
        "colab_type": "code",
        "colab": {
          "base_uri": "https://localhost:8080/",
          "height": 35
        },
        "outputId": "38ebc648-477b-4014-9524-3594db234926"
      },
      "source": [
        "type(name)"
      ],
      "execution_count": null,
      "outputs": [
        {
          "output_type": "execute_result",
          "data": {
            "text/plain": [
              "str"
            ]
          },
          "metadata": {
            "tags": []
          },
          "execution_count": 24
        }
      ]
    },
    {
      "cell_type": "code",
      "metadata": {
        "id": "4z5ZP9Zo23UA",
        "colab_type": "code",
        "colab": {
          "base_uri": "https://localhost:8080/",
          "height": 35
        },
        "outputId": "6a089989-9569-43cb-b5ae-664cbab1c4d6"
      },
      "source": [
        "type(fav_num)"
      ],
      "execution_count": null,
      "outputs": [
        {
          "output_type": "execute_result",
          "data": {
            "text/plain": [
              "float"
            ]
          },
          "metadata": {
            "tags": []
          },
          "execution_count": 25
        }
      ]
    },
    {
      "cell_type": "code",
      "metadata": {
        "id": "DgI_F6t-4o-b",
        "colab_type": "code",
        "colab": {}
      },
      "source": [
        ""
      ],
      "execution_count": null,
      "outputs": []
    }
  ]
}

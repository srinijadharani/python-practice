{
 "cells": [
  {
   "cell_type": "markdown",
   "metadata": {},
   "source": [
    "**Short circuit evaluation of Logical Expressions.**"
   ]
  },
  {
   "cell_type": "code",
   "execution_count": 1,
   "metadata": {},
   "outputs": [
    {
     "name": "stdout",
     "output_type": "stream",
     "text": [
      "False\n"
     ]
    }
   ],
   "source": [
    "a=9\n",
    "b=7\n",
    "print(a<b and b>0 and a+b>0)"
   ]
  },
  {
   "cell_type": "markdown",
   "metadata": {},
   "source": [
    "In the above expression containing three more, the first expression itself is false. In case of 'and' if any one of the expressions is false, the whole result is false."
   ]
  },
  {
   "cell_type": "markdown",
   "metadata": {},
   "source": [
    "# **Functions**"
   ]
  },
  {
   "cell_type": "markdown",
   "metadata": {},
   "source": [
    "A function is a set of instructions that perform a specific task. Functions provide code reusability and organisation. We can call the fucntion anytime we want to use that particular block of code to perform that particular task.\n",
    "\n",
    "**Syntax:**\n",
    "(We use the keyword def to declare any function.)\n",
    "\n",
    "def function_name(param1, param2, param3 ... paramn):\n",
    "    #statements\n",
    "    \n",
    "function_name(param1, param2, param3 ... paramn) #function call"
   ]
  },
  {
   "cell_type": "code",
   "execution_count": 3,
   "metadata": {},
   "outputs": [
    {
     "name": "stdout",
     "output_type": "stream",
     "text": [
      "Hello Srinija\n"
     ]
    }
   ],
   "source": [
    "def greetings(name):\n",
    "    print(\"Hello\",name)\n",
    "greetings(\"Srinija\") #name is a string. enclose it in \" \""
   ]
  },
  {
   "cell_type": "code",
   "execution_count": 4,
   "metadata": {},
   "outputs": [
    {
     "name": "stdout",
     "output_type": "stream",
     "text": [
      "The sum of 3 and 4 is 7\n"
     ]
    }
   ],
   "source": [
    "def add_two(num1, num2):\n",
    "    add= num1+num2\n",
    "    print(\"The sum of\",num1,\"and\",num2,\"is\",add)\n",
    "add_two(3,4)"
   ]
  },
  {
   "cell_type": "code",
   "execution_count": 6,
   "metadata": {},
   "outputs": [
    {
     "name": "stdout",
     "output_type": "stream",
     "text": [
      "3 to the power of 4 is 81\n"
     ]
    }
   ],
   "source": [
    "def power(num, power_raise):\n",
    "    power_num= num**power_raise\n",
    "    print(num,\"to the power of\",power_raise,\"is\",power_num)\n",
    "power(3,4)"
   ]
  },
  {
   "cell_type": "code",
   "execution_count": 8,
   "metadata": {},
   "outputs": [
    {
     "data": {
      "text/plain": [
       "3"
      ]
     },
     "execution_count": 8,
     "metadata": {},
     "output_type": "execute_result"
    }
   ],
   "source": [
    "def addition(a,b):\n",
    "    return a+b\n",
    "addition(1,2)"
   ]
  },
  {
   "cell_type": "code",
   "execution_count": 9,
   "metadata": {},
   "outputs": [
    {
     "data": {
      "text/plain": [
       "9"
      ]
     },
     "execution_count": 9,
     "metadata": {},
     "output_type": "execute_result"
    }
   ],
   "source": [
    "def greatest(a,b):\n",
    "    if a>b:\n",
    "        return a\n",
    "    else:\n",
    "        return b\n",
    "greatest(9,7)"
   ]
  },
  {
   "cell_type": "code",
   "execution_count": 10,
   "metadata": {},
   "outputs": [
    {
     "name": "stdout",
     "output_type": "stream",
     "text": [
      "The value of x inside the function is: 5\n",
      "The value of x outside the function is: 9\n"
     ]
    }
   ],
   "source": [
    "def where_is_x():\n",
    "    x=5\n",
    "    print(\"The value of x inside the function is:\",x)\n",
    "where_is_x()\n",
    "x=9\n",
    "print(\"The value of x outside the function is:\",x)"
   ]
  },
  {
   "cell_type": "markdown",
   "metadata": {},
   "source": [
    "The 'x' that was declared inside the function 'where_is_x' is called a local variable and you can access that x in and only inside the function it resides in.\n",
    "The 'x' that was declared outside the function 'where_is_x' is called a global variable and you can use it anywhere in your program."
   ]
  }
 ],
 "metadata": {
  "kernelspec": {
   "display_name": "Python 3",
   "language": "python",
   "name": "python3"
  },
  "language_info": {
   "codemirror_mode": {
    "name": "ipython",
    "version": 3
   },
   "file_extension": ".py",
   "mimetype": "text/x-python",
   "name": "python",
   "nbconvert_exporter": "python",
   "pygments_lexer": "ipython3",
   "version": "3.7.6"
  }
 },
 "nbformat": 4,
 "nbformat_minor": 4
}

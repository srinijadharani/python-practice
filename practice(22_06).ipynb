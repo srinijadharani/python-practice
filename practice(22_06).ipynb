{
 "cells": [
  {
   "cell_type": "markdown",
   "metadata": {},
   "source": [
    "**Short circuit evaluation of Logical Expressions.**"
   ]
  },
  {
   "cell_type": "code",
   "execution_count": 1,
   "metadata": {},
   "outputs": [
    {
     "name": "stdout",
     "output_type": "stream",
     "text": [
      "False\n"
     ]
    }
   ],
   "source": [
    "a=9\n",
    "b=7\n",
    "print(a<b and b>0 and a+b>0)"
   ]
  },
  {
   "cell_type": "markdown",
   "metadata": {},
   "source": [
    "In the above expression containing three more, the first expression itself is false. In case of 'and' if any one of the expressions is false, the whole result is false."
   ]
  },
  {
   "cell_type": "markdown",
   "metadata": {},
   "source": [
    "# **Functions**"
   ]
  },
  {
   "cell_type": "markdown",
   "metadata": {},
   "source": [
    "A function is a set of instructions that perform a specific task. Functions provide code reusability and organisation. We can call the fucntion anytime we want to use that particular block of code to perform that particular task.\n",
    "\n",
    "**Syntax:**\n",
    "(We use the keyword def to declare any function.)\n",
    "\n",
    "def function_name(param1, param2, param3 ... paramn):\n",
    "    #statements\n",
    "    \n",
    "function_name(param1, param2, param3 ... paramn) #function call"
   ]
  },
  {
   "cell_type": "code",
   "execution_count": 3,
   "metadata": {},
   "outputs": [
    {
     "name": "stdout",
     "output_type": "stream",
     "text": [
      "Hello Srinija\n"
     ]
    }
   ],
   "source": [
    "def greetings(name):\n",
    "    print(\"Hello\",name)\n",
    "greetings(\"Srinija\") #name is a string. enclose it in \" \""
   ]
  },
  {
   "cell_type": "code",
   "execution_count": 4,
   "metadata": {},
   "outputs": [
    {
     "name": "stdout",
     "output_type": "stream",
     "text": [
      "The sum of 3 and 4 is 7\n"
     ]
    }
   ],
   "source": [
    "def add_two(num1, num2):\n",
    "    add= num1+num2\n",
    "    print(\"The sum of\",num1,\"and\",num2,\"is\",add)\n",
    "add_two(3,4)"
   ]
  },
  {
   "cell_type": "code",
   "execution_count": 6,
   "metadata": {},
   "outputs": [
    {
     "name": "stdout",
     "output_type": "stream",
     "text": [
      "3 to the power of 4 is 81\n"
     ]
    }
   ],
   "source": [
    "def power(num, power_raise):\n",
    "    power_num= num**power_raise\n",
    "    print(num,\"to the power of\",power_raise,\"is\",power_num)\n",
    "power(3,4)"
   ]
  },
  {
   "cell_type": "code",
   "execution_count": 8,
   "metadata": {},
   "outputs": [
    {
     "data": {
      "text/plain": [
       "3"
      ]
     },
     "execution_count": 8,
     "metadata": {},
     "output_type": "execute_result"
    }
   ],
   "source": [
    "def addition(a,b):\n",
    "    return a+b\n",
    "addition(1,2)"
   ]
  },
  {
   "cell_type": "code",
   "execution_count": 9,
   "metadata": {},
   "outputs": [
    {
     "data": {
      "text/plain": [
       "9"
      ]
     },
     "execution_count": 9,
     "metadata": {},
     "output_type": "execute_result"
    }
   ],
   "source": [
    "def greatest(a,b):\n",
    "    if a>b:\n",
    "        return a\n",
    "    else:\n",
    "        return b\n",
    "greatest(9,7)"
   ]
  },
  {
   "cell_type": "code",
   "execution_count": 10,
   "metadata": {},
   "outputs": [
    {
     "name": "stdout",
     "output_type": "stream",
     "text": [
      "The value of x inside the function is: 5\n",
      "The value of x outside the function is: 9\n"
     ]
    }
   ],
   "source": [
    "def where_is_x():\n",
    "    x=5\n",
    "    print(\"The value of x inside the function is:\",x)\n",
    "where_is_x()\n",
    "x=9\n",
    "print(\"The value of x outside the function is:\",x)"
   ]
  },
  {
   "cell_type": "markdown",
   "metadata": {},
   "source": [
    "The 'x' that was declared inside the function 'where_is_x' is called a local variable and you can access that x in and only inside the function it resides in.\n",
    "The 'x' that was declared outside the function 'where_is_x' is called a global variable and you can use it anywhere in your program."
   ]
  },
  {
   "cell_type": "markdown",
   "metadata": {},
   "source": [
    "**Types of Arguments:**\n",
    "\n",
    "*1. Reqiured Arguments*\n",
    "\n",
    "*2. Keyword Arguments*\n",
    "\n",
    "*3. Default Arguments*\n",
    "\n",
    "*4. Variable Length Arguments*\n"
   ]
  },
  {
   "cell_type": "markdown",
   "metadata": {},
   "source": [
    "**Required Arguments:**\n",
    "Required arguments are the arguments passed to a function in correct positional order. Here, the number of arguments in the function call should match exactly with the function definition."
   ]
  },
  {
   "cell_type": "code",
   "execution_count": 1,
   "metadata": {},
   "outputs": [
    {
     "name": "stdout",
     "output_type": "stream",
     "text": [
      "Hello, Srinija\n"
     ]
    }
   ],
   "source": [
    "def greeting(name):\n",
    "    print(\"Hello,\",name)\n",
    "greeting(\"Srinija\")"
   ]
  },
  {
   "cell_type": "markdown",
   "metadata": {},
   "source": [
    "**Keyword Arguments:**\n",
    "Keyword arguments are related to the function calls. When you use keyword arguments in a function call, the caller identifies the arguments by the parameter name. This allows you to skip arguments or place them out of order because the Python interpreter is able to use the keywords provided to match the values with parameters"
   ]
  },
  {
   "cell_type": "code",
   "execution_count": 2,
   "metadata": {},
   "outputs": [
    {
     "name": "stdout",
     "output_type": "stream",
     "text": [
      "Hello, Srinija and Ashwin ! How are you?\n",
      "Is your birthday on 24 August ?\n"
     ]
    }
   ],
   "source": [
    "def greeting(name1,birthday,name2):\n",
    "    print(\"Hello,\",name1,\"and\",name2,\"! How are you?\")\n",
    "    print(\"Is your birthday on\",birthday,\"?\")\n",
    "greeting(name2=\"Ashwin\",name1=\"Srinija\",birthday=\"24 August\")"
   ]
  },
  {
   "cell_type": "markdown",
   "metadata": {},
   "source": [
    "**Default Arguments:**\n",
    "A default argument is an argument that assumes a default value if a value is not provided in the function call for that argument."
   ]
  },
  {
   "cell_type": "code",
   "execution_count": 3,
   "metadata": {},
   "outputs": [
    {
     "name": "stdout",
     "output_type": "stream",
     "text": [
      "Hello, Srinija and Ashwin ! How are you?\n",
      "Your age is: 19\n"
     ]
    }
   ],
   "source": [
    "def greeting(name1,name2,age=19):\n",
    "    print(\"Hello,\",name1,\"and\",name2,\"! How are you?\")\n",
    "    print(\"Your age is:\",age)\n",
    "greeting(\"Srinija\",\"Ashwin\")"
   ]
  },
  {
   "cell_type": "markdown",
   "metadata": {},
   "source": [
    "**Variable Length Arguments:**\n",
    "You may need to process a function for more arguments than you specified while defining the function. These arguments are called variable-length arguments and are not named in the function definition, unlike required and default arguments. \n",
    "\n",
    "An asterisk is placed before the variable name that holds the values of all nonkeyword variable arguments. This tuple remains empty if no additional arguments are specified during the function call. "
   ]
  },
  {
   "cell_type": "code",
   "execution_count": 5,
   "metadata": {},
   "outputs": [
    {
     "name": "stdout",
     "output_type": "stream",
     "text": [
      "The output is: 10\n",
      "Other arguments are: \n",
      "34\n",
      "56\n",
      "78\n",
      "99\n"
     ]
    }
   ],
   "source": [
    "def numbers(num1, *vartuple):\n",
    "    print(\"The output is:\",num1)\n",
    "    print(\"Other arguments are: \")\n",
    "    for var in vartuple:\n",
    "        print(var)\n",
    "numbers(10,34,56,78,99)"
   ]
  },
  {
   "cell_type": "markdown",
   "metadata": {},
   "source": [
    "In the above function definition, the first argument (in the function call) it is num1 and the rest are considered as vartuples. "
   ]
  }
 ],
 "metadata": {
  "kernelspec": {
   "display_name": "Python 3",
   "language": "python",
   "name": "python3"
  },
  "language_info": {
   "codemirror_mode": {
    "name": "ipython",
    "version": 3
   },
   "file_extension": ".py",
   "mimetype": "text/x-python",
   "name": "python",
   "nbconvert_exporter": "python",
   "pygments_lexer": "ipython3",
   "version": "3.7.6"
  }
 },
 "nbformat": 4,
 "nbformat_minor": 4
}

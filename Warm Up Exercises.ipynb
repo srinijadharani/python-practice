{
 "cells": [
  {
   "cell_type": "code",
   "execution_count": 5,
   "metadata": {},
   "outputs": [],
   "source": [
    "# function that keeps asking for input as long as you enter a non-digit value\n",
    "\n",
    "def input_num():\n",
    "    \n",
    "    not_num=\"flag\"\n",
    "    \n",
    "    while not_num.isdigit()==False:\n",
    "        \n",
    "        not_num=input(\"Enter a number:\")\n",
    "        \n",
    "        if not_num.isdigit()==False:\n",
    "            \n",
    "            print(\"Please enter a number\")\n",
    "            \n",
    "    return int(not_num)"
   ]
  },
  {
   "cell_type": "code",
   "execution_count": 6,
   "metadata": {},
   "outputs": [
    {
     "name": "stdout",
     "output_type": "stream",
     "text": [
      "Enter a number:hey\n",
      "Please enter a number\n",
      "Enter a number:there\n",
      "Please enter a number\n",
      "Enter a number:whats up\n",
      "Please enter a number\n",
      "Enter a number:9\n"
     ]
    },
    {
     "data": {
      "text/plain": [
       "9"
      ]
     },
     "execution_count": 6,
     "metadata": {},
     "output_type": "execute_result"
    }
   ],
   "source": [
    "input_num()"
   ]
  },
  {
   "cell_type": "code",
   "execution_count": 12,
   "metadata": {},
   "outputs": [],
   "source": [
    "from IPython.display import clear_output"
   ]
  },
  {
   "cell_type": "code",
   "execution_count": 13,
   "metadata": {},
   "outputs": [
    {
     "name": "stdout",
     "output_type": "stream",
     "text": [
      "Please enter a valid number.\n",
      "Enter a number: 3\n"
     ]
    },
    {
     "data": {
      "text/plain": [
       "3"
      ]
     },
     "execution_count": 13,
     "metadata": {},
     "output_type": "execute_result"
    }
   ],
   "source": [
    "def input_num():\n",
    "    \n",
    "    num=\"flag\"\n",
    "    \n",
    "    while num.isdigit()==False:\n",
    "        num=input(\"Enter a number: \")\n",
    "        \n",
    "        if num.isdigit()==False:\n",
    "            clear_output()\n",
    "            print(\"Please enter a valid number.\")\n",
    "    return int(num)\n",
    "\n",
    "input_num()"
   ]
  },
  {
   "cell_type": "code",
   "execution_count": 29,
   "metadata": {},
   "outputs": [
    {
     "name": "stdout",
     "output_type": "stream",
     "text": [
      "Invalid input\n",
      "Enter a number from the valid_values list: 2\n"
     ]
    },
    {
     "data": {
      "text/plain": [
       "2"
      ]
     },
     "execution_count": 29,
     "metadata": {},
     "output_type": "execute_result"
    }
   ],
   "source": [
    "\n",
    "\n",
    "\n",
    "\n",
    "def num_selection():\n",
    "    valid_values=[0,1,2,3,5]\n",
    "    num=\"flag\"\n",
    "    \n",
    "    while num not in valid_values:\n",
    "        num=int(input(\"Enter a number from the valid_values list: \"))\n",
    "        \n",
    "        if num not in valid_values:\n",
    "            clear_output()\n",
    "            print(\"Invalid input\")\n",
    "            \n",
    "    return int(num)\n",
    "\n",
    "num_selection()"
   ]
  },
  {
   "cell_type": "code",
   "execution_count": 31,
   "metadata": {},
   "outputs": [
    {
     "name": "stdout",
     "output_type": "stream",
     "text": [
      "Invalid input\n",
      "Enter a number from the valid_values list: 1\n"
     ]
    },
    {
     "data": {
      "text/plain": [
       "1"
      ]
     },
     "execution_count": 31,
     "metadata": {},
     "output_type": "execute_result"
    }
   ],
   "source": [
    "def num_selection():\n",
    "    valid_values=[\"0\",\"1\",\"2\",\"3\",\"5\"]\n",
    "    num=\"flag\"\n",
    "    \n",
    "    while num not in valid_values:\n",
    "        num=input(\"Enter a number from the valid_values list: \")\n",
    "        \n",
    "        if num not in valid_values:\n",
    "            clear_output()\n",
    "            print(\"Invalid input\")\n",
    "            \n",
    "    return int(num)\n",
    "\n",
    "num_selection()"
   ]
  },
  {
   "cell_type": "code",
   "execution_count": null,
   "metadata": {},
   "outputs": [],
   "source": [
    "its bullshit. more to do."
   ]
  }
 ],
 "metadata": {
  "kernelspec": {
   "display_name": "Python 3",
   "language": "python",
   "name": "python3"
  },
  "language_info": {
   "codemirror_mode": {
    "name": "ipython",
    "version": 3
   },
   "file_extension": ".py",
   "mimetype": "text/x-python",
   "name": "python",
   "nbconvert_exporter": "python",
   "pygments_lexer": "ipython3",
   "version": "3.7.7"
  }
 },
 "nbformat": 4,
 "nbformat_minor": 4
}
